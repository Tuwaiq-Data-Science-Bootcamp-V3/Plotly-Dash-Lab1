{
 "cells": [
  {
   "cell_type": "markdown",
   "metadata": {},
   "source": [
    "# Q0: import dash standard libraries"
   ]
  },
  {
   "cell_type": "code",
   "execution_count": null,
   "metadata": {},
   "outputs": [],
   "source": [
    "from dash import Dash, dcc, html, Input, Output\n",
    "from jupyter_dash import JupyterDash\n",
    "import plotly.graph_objects as go\n",
    "import plotly.express as px \n",
    "import dash_core_components as dcc\n",
    "import dash"
   ]
  },
  {
   "cell_type": "markdown",
   "metadata": {},
   "source": [
    "# Q1: Make dash that prints \"Data Science\""
   ]
  },
  {
   "cell_type": "code",
   "execution_count": null,
   "metadata": {},
   "outputs": [],
   "source": [
    "df = px.data.tips()\n",
    "app = JupyterDash(__name__)\n",
    "app.layout = html.Div([\n",
    "    html.H4('Data Science'),\n",
    "   \n",
    "])\n",
    "if __name__ == '__main__':\n",
    "    app.run_server(mode='inline')"
   ]
  },
  {
   "cell_type": "markdown",
   "metadata": {},
   "source": [
    "# Q2: Make dash that takes name input and outpt \"Welcome to Data Science dashboard {name}\""
   ]
  },
  {
   "cell_type": "code",
   "execution_count": null,
   "metadata": {},
   "outputs": [],
   "source": [
    "app.layout = html.Div([\n",
    "    html.H6(\"Please Enter your name!\"),\n",
    "    html.Div([\n",
    "        \"Input: \",\n",
    "        dcc.Input(id='my-input', value='initial value', type='text')\n",
    "    ]),\n",
    "    html.Br(),\n",
    "    html.Div(id='my-output'),\n",
    "\n",
    "])\n",
    "\n",
    "\n",
    "@app.callback(\n",
    "    Output(component_id='my-output', component_property='children'),\n",
    "    Input(component_id='my-input', component_property='value')\n",
    ")\n",
    "def update_output_div(input_value):\n",
    "    return f'Welcome to Data Science dashboard , MR : {input_value}'\n",
    "\n",
    "\n",
    "if __name__ == '__main__':\n",
    "    app.run_server(mode='inline')\n"
   ]
  },
  {
   "cell_type": "markdown",
   "metadata": {},
   "source": [
    "# Q3: Make Plotly-Dash that takes two inputs (numbers) and output 3 numbers x, y , z= x+y\n",
    "- hint: use html.Div, dcc.Input(type='number')"
   ]
  },
  {
   "cell_type": "code",
   "execution_count": null,
   "metadata": {},
   "outputs": [],
   "source": [
    "\n",
    "app = JupyterDash(__name__)\n",
    "\n",
    "app.layout = html.Div([\n",
    "    html.H6(\"Please Enter two numbers\"),\n",
    "    html.Div([\n",
    "        \"Input: \",\n",
    "        dcc.Input(id='my-input', value='Number 1', type='text')\n",
    "    ]),\n",
    "    html.Div([\n",
    "        \"Input: \",\n",
    "        dcc.Input(id='my-input2', value='Number 2', type='text')\n",
    "    ]),\n",
    "    html.Br(),\n",
    "    html.Div(id='my-output'),\n",
    "\n",
    "])\n",
    "\n",
    "\n",
    "@app.callback(\n",
    "    Output(component_id='my-output', component_property='children'),\n",
    "    Input(component_id='my-input', component_property='value'),\n",
    "    Input(component_id='my-input2', component_property='value')\n",
    ")\n",
    "def update_output_div(input_value, input_value2):\n",
    "    try:\n",
    "        sum_value = float(input_value) + float(input_value2)\n",
    "        return f'x = : {input_value}      y = :{input_value2}    The sum = {sum_value}'\n",
    "    except:\n",
    "        return 'Please enter valid numbers'\n",
    "    \n",
    "    \n",
    "   \n",
    "\n",
    "\n",
    "if __name__ == '__main__':\n",
    "    app.run_server(mode='inline')\n"
   ]
  },
  {
   "cell_type": "markdown",
   "metadata": {},
   "source": [
    "# Q4.1: Make JubyterDash with Rangeslider from 1-15 with 6 option"
   ]
  },
  {
   "cell_type": "code",
   "execution_count": null,
   "metadata": {},
   "outputs": [],
   "source": [
    "app.layout = html.Div([\n",
    "    html.H1('Rangeslider with Options'),\n",
    "    dcc.RangeSlider(\n",
    "        id='my-range-slider',\n",
    "        min=1,\n",
    "        max=15,\n",
    "        step=1,\n",
    "        value=[1, 5],\n",
    "        marks={\n",
    "            1: 'Option 1',\n",
    "            5: 'Option 2',\n",
    "            7: 'Option 3',\n",
    "            9: 'Option 4',\n",
    "            12: 'Option 5',\n",
    "            15: 'Option 6'\n",
    "        }\n",
    "    ),\n",
    "    html.Div(id='output-container-range-slider')\n",
    "])\n",
    "\n",
    "@app.callback(\n",
    "    Output('output-container-range-slider', 'children'),\n",
    "    Input('my-range-slider', 'value'))\n",
    "def update_output(value):\n",
    "    return f'You have selected options {value[0]} to {value[1]}'\n",
    "\n",
    "if __name__ == '__main__':\n",
    "    app.run_server(debug=True)"
   ]
  },
  {
   "cell_type": "markdown",
   "metadata": {},
   "source": [
    "# Q4.2: add to the previous dash: Label, set default value on rangeslider as 7-10"
   ]
  },
  {
   "cell_type": "code",
   "execution_count": null,
   "metadata": {},
   "outputs": [],
   "source": [
    "app.layout = html.Div([\n",
    "    html.H1('Rangeslider with Options'),\n",
    "    html.Label('Select options:'),\n",
    "    dcc.RangeSlider(\n",
    "        id='my-range-slider',\n",
    "        min=1,\n",
    "        max=10,\n",
    "        step=1,\n",
    "        value=[7, 10],\n",
    "        marks={\n",
    "            1: '1',\n",
    "            2: '2',\n",
    "            3: '3',\n",
    "            4: '4',\n",
    "            5: '5',\n",
    "            6:'6',\n",
    "            7:'7',\n",
    "            8:'8',\n",
    "            9:'9',\n",
    "            10:'10',\n",
    "        \n",
    "        }\n",
    "    ),\n",
    "    html.Div(id='output-container-range-slider')\n",
    "])\n",
    "\n",
    "@app.callback(\n",
    "    Output('output-container-range-slider', 'children'),\n",
    "    Input('my-range-slider', 'value'))\n",
    "def update_output(value):\n",
    "    return f'You have selected options {value[0]} to {value[1]}'\n",
    "\n",
    "if __name__ == '__main__':\n",
    "    app.run_server(debug=True)"
   ]
  },
  {
   "cell_type": "markdown",
   "metadata": {},
   "source": [
    "# Q5: Make 3 different Dcc types (Dropdown - Checkbox...) in one dash"
   ]
  },
  {
   "cell_type": "code",
   "execution_count": null,
   "metadata": {},
   "outputs": [],
   "source": [
    "app = dash.Dash(__name__)\n",
    "\n",
    " app.layout = html.Div([\n",
    "    html.H1(\"Dash Core Components : \"),\n",
    "    html.Label(\"Select an option from the dropdown:\"),\n",
    "    dcc.Dropdown(['LA', 'NYC', 'MTL'],\n",
    "        id=\"my-dropdown\",\n",
    "    ),\n",
    "    html.Br(),\n",
    "    dcc.Checklist(\n",
    "        ['New York City', 'Montréal', 'San Francisco'],\n",
    "        id=\"my-checkbox\",\n",
    "    ),\n",
    "    html.Br(),\n",
    "    html.Label(\"Select one option from the radio items:\"),\n",
    "     dcc.RadioItems(['Linear', 'Log'],\n",
    "        id=\"my-radio\",\n",
    "    )\n",
    "])\n",
    "\n",
    "if __name__ == '__main__':\n",
    "    app.run_server(debug=True)\n",
    "    \n",
    "    \n",
    "\n",
    " "
   ]
  },
  {
   "cell_type": "markdown",
   "metadata": {},
   "source": [
    "# Q6: Make Plotly chart, then add it to a plotly_dash"
   ]
  },
  {
   "cell_type": "code",
   "execution_count": null,
   "metadata": {},
   "outputs": [],
   "source": [
    "import plotly.express as px"
   ]
  },
  {
   "cell_type": "code",
   "execution_count": null,
   "metadata": {},
   "outputs": [],
   "source": [
    "df = px.data.gapminder()\n",
    "fig = px.scatter(df.query(\"year==2007\"), x=\"gdpPercap\", y=\"lifeExp\", size=\"pop\", color=\"continent\",\n",
    "                 hover_name=\"country\", log_x=True, size_max=60)\n",
    "\n",
    "# Create a Plotly Dash app\n",
    "app = Dash(__name__)\n",
    "\n",
    "app.layout = html.Div([\n",
    "    html.H1(\"Plotly Dash Example\"),\n",
    "    dcc.Graph(id=\"my-graph\", figure=fig)\n",
    "])\n",
    "\n",
    "if __name__ == '__main__':\n",
    "    app.run_server()"
   ]
  },
  {
   "cell_type": "code",
   "execution_count": null,
   "metadata": {},
   "outputs": [],
   "source": []
  },
  {
   "cell_type": "markdown",
   "metadata": {},
   "source": [
    "# Q7: From our data make plotly-dash with suitble chart, and Dropdown.\n",
    "\n",
    "- Dropdown should contain at least 3 options, each one represents different column.\n",
    "- Add label to dropdown.\n",
    "- The chart data should change depending on the selected dropdown option."
   ]
  },
  {
   "cell_type": "code",
   "execution_count": null,
   "metadata": {},
   "outputs": [],
   "source": [
    "from dash import Dash, dcc, html, Input, Output\n",
    "from jupyter_dash import JupyterDash\n",
    "import plotly.graph_objects as go\n",
    "import plotly.express as px \n",
    "import dash_core_components as dcc\n",
    "import pandas as pd\n",
    "data = pd.read_csv(\"titanic passenger list.csv\")\n",
    "app = Dash(__name__)\n",
    "fig = px.scatter(data, x='age', y='sex')\n",
    "\n",
    "app.layout = html.Div([\n",
    "    html.H1('Plotly Dash with Dropdown'),\n",
    "    html.Label('Select a column:'),\n",
    "    dcc.Dropdown(\n",
    "        id='my-dropdown',\n",
    "        options=[\n",
    "            {'label': 'Column 1', 'value': 'column1'},\n",
    "            {'label': 'Column 2', 'value': 'column2'},\n",
    "            {'label': 'Column 3', 'value': 'column3'}\n",
    "        ],\n",
    "        value='column1'\n",
    "    ),\n",
    "    dcc.Graph(id='my-graph', figure=fig)\n",
    "])\n",
    "\n",
    "@app.callback(\n",
    "    Output('my-graph', 'figure'),\n",
    "    Input('my-dropdown', 'value'))\n",
    "def update_graph(selected_column):\n",
    "    fig = px.histogram(data, x=column.lower())\n",
    "    fig.update_layout(title=f'Scatter Plot of {selected_column}vs Column 2')\n",
    "    return fig\n",
    "\n",
    "if __name__ == '__main__':\n",
    "    app.run_server()"
   ]
  },
  {
   "cell_type": "markdown",
   "metadata": {},
   "source": [
    "# Q8: add 2 more charts to the prevoius Ploty-Dash"
   ]
  },
  {
   "cell_type": "code",
   "execution_count": null,
   "metadata": {},
   "outputs": [],
   "source": [
    "f = pd.read_csv(\"titanic passenger list.csv\")\n",
    "app = Dash(__name__)\n",
    "app.layout = html.Div([\n",
    "    html.Label('Select a Column'),\n",
    "    dcc.Dropdown(\n",
    "        id='column-dropdown',\n",
    "        options=[\n",
    "            {'label': 'Age', 'value': 'age'},\n",
    "            {'label': 'Fare', 'value': 'fare'},\n",
    "            {'label': 'Survived', 'value': 'survived'}\n",
    "        ],\n",
    "        value='age'\n",
    "    ),\n",
    "    dcc.Graph(id='histogram'),\n",
    "    dcc.Graph(id='scatter'),\n",
    "    dcc.Graph(id='pie')\n",
    "])\n",
    "@app.callback(\n",
    "    Output('histogram', 'figure'),\n",
    "    Input('column-dropdown', 'value')\n",
    ")\n",
    "def update_histogram(column):\n",
    "    fig = px.histogram(df, x=column.lower())\n",
    "    return fig\n",
    "\n",
    "@app.callback(\n",
    "    Output('scatter', 'figure'),\n",
    "    Input('column-dropdown', 'value')\n",
    ")\n",
    "def update_scatter(column):\n",
    "    fig = px.scatter(df, x='age', y='fare', color=column.lower())\n",
    "    return fig\n",
    "\n",
    "@app.callback(\n",
    "    Output('pie', 'figure'),\n",
    "    Input('column-dropdown', 'value')\n",
    ")\n",
    "def update_pie(column):\n",
    "    fig = px.pie(df, names='sex', values=column)\n",
    "    return fig\n",
    "if __name__ == '__main__':\n",
    "    app.run_server()"
   ]
  },
  {
   "cell_type": "markdown",
   "metadata": {},
   "source": [
    "# Q9: Search for \"Plotly Gallery\" and fetch for a graph and use it with our data.\n",
    "\n",
    "- Note: You need to put the resourse addres of fetched your grapth."
   ]
  },
  {
   "cell_type": "code",
   "execution_count": 6,
   "metadata": {},
   "outputs": [
    {
     "name": "stdout",
     "output_type": "stream",
     "text": [
      "Dash is running on http://127.0.0.1:8050/\n",
      "\n",
      " * Serving Flask app \"__main__\" (lazy loading)\n",
      " * Environment: production\n",
      "\u001b[31m   WARNING: This is a development server. Do not use it in a production deployment.\u001b[0m\n",
      "\u001b[2m   Use a production WSGI server instead.\u001b[0m\n",
      " * Debug mode: on\n"
     ]
    },
    {
     "ename": "SystemExit",
     "evalue": "1",
     "output_type": "error",
     "traceback": [
      "An exception has occurred, use %tb to see the full traceback.\n",
      "\u001b[1;31mSystemExit\u001b[0m\u001b[1;31m:\u001b[0m 1\n"
     ]
    },
    {
     "name": "stderr",
     "output_type": "stream",
     "text": [
      "C:\\Users\\H P\\anaconda3\\lib\\site-packages\\IPython\\core\\interactiveshell.py:3465: UserWarning:\n",
      "\n",
      "To exit: use 'exit', 'quit', or Ctrl-D.\n",
      "\n"
     ]
    }
   ],
   "source": [
    "fig = go.Figure()\n",
    "\n",
    "fig.add_trace(go.Scatter(x=data['sex'], y=data['ticket'],\n",
    "                    mode='lines+markers',\n",
    "                    name='Line 1'))\n",
    "fig.add_trace(go.Scatter(x=data['sex'], y=data['age'],\n",
    "                    mode='lines+markers',\n",
    "                    name='Line 2'))\n",
    "app = dash.Dash(__name__)\n",
    "app.layout = html.Div([\n",
    "    html.H1('Line and Scatter Plot with Plotly Gallery Example'),\n",
    "    dcc.Graph(id='my-graph', figure=fig)\n",
    "])\n",
    "\n",
    "if __name__ == '__main__':\n",
    "    app.run_server(debug=True)"
   ]
  },
  {
   "cell_type": "markdown",
   "metadata": {},
   "source": [
    "# Challenge 1.1: Create Plotly dash with two charts depends on different columns of the data\n",
    "- First Chart : Pie\n",
    "- Secound Chart: is by your Choice ( Not Pie )"
   ]
  },
  {
   "cell_type": "code",
   "execution_count": null,
   "metadata": {},
   "outputs": [],
   "source": []
  },
  {
   "cell_type": "markdown",
   "metadata": {},
   "source": [
    "# Challenge 1.2: Make Hovering over a slice of the pie changes the data for the second chart depending on what the slice is."
   ]
  },
  {
   "cell_type": "code",
   "execution_count": null,
   "metadata": {},
   "outputs": [],
   "source": []
  }
 ],
 "metadata": {
  "kernelspec": {
   "display_name": "Python 3 (ipykernel)",
   "language": "python",
   "name": "python3"
  },
  "language_info": {
   "codemirror_mode": {
    "name": "ipython",
    "version": 3
   },
   "file_extension": ".py",
   "mimetype": "text/x-python",
   "name": "python",
   "nbconvert_exporter": "python",
   "pygments_lexer": "ipython3",
   "version": "3.9.13"
  }
 },
 "nbformat": 4,
 "nbformat_minor": 2
}
