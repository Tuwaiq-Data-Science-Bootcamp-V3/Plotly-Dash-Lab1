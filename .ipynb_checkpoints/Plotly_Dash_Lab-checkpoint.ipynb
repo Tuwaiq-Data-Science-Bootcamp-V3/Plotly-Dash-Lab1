{
 "cells": [
  {
   "cell_type": "markdown",
   "metadata": {},
   "source": [
    "# Q0: import dash standard libraries"
   ]
  },
  {
   "cell_type": "code",
   "execution_count": null,
   "metadata": {},
   "outputs": [],
   "source": [
    "import dash\n",
    "from dash import Dash, dcc, html, Input, Output\n",
    "from jupyter_dash import JupyterDash\n"
   ]
  },
  {
   "cell_type": "markdown",
   "metadata": {},
   "source": [
    "# Q1: Make dash that prints \"Data Science\""
   ]
  },
  {
   "cell_type": "code",
   "execution_count": null,
   "metadata": {},
   "outputs": [],
   "source": [
    "app = Dash(__name__)\n",
    "\n",
    "app.layout = html.Div([\n",
    "    html.H1('Data Science')\n",
    "])\n",
    "\n",
    "if __name__ == '__main__':\n",
    "    app.run() # app.run_server() also works"
   ]
  },
  {
   "cell_type": "markdown",
   "metadata": {},
   "source": [
    "# Q2: Make dash that takes name input and outpt \"Welcome to Data Science dashboard {name}\""
   ]
  },
  {
   "cell_type": "code",
   "execution_count": null,
   "metadata": {},
   "outputs": [],
   "source": [
    "app = Dash(__name__)\n",
    "\n",
    "app.layout = html.Div(\n",
    "    children=[\n",
    "        html.H1(\"Data Science Dashboard\", style={\"text-align\": \"center\"}),\n",
    "        html.Div(\n",
    "            children=[\n",
    "                html.Label(\"Enter your name:\"),\n",
    "                dcc.Input(id=\"name-input\", type=\"text\", placeholder=\"Your name\"),\n",
    "            ],\n",
    "            style={\"text-align\": \"center\", \"margin-top\": \"20px\"},\n",
    "        ),\n",
    "        html.Div(id=\"output-message\", style={\"text-align\": \"center\", \"margin-top\": \"20px\"}),\n",
    "    ]\n",
    ")\n",
    "\n",
    "@app.callback(\n",
    "    Output(\"output-message\", \"children\"),\n",
    "    [Input(\"name-input\", \"value\")]\n",
    ")\n",
    "def display_welcome_message(name):\n",
    "    if name:\n",
    "        return html.H2(f\"Welcome to the Data Science Dashboard, {name}!\")\n",
    "    else:\n",
    "        return \"\"\n",
    "\n",
    "if __name__ == \"__main__\":\n",
    "    app.run_server()"
   ]
  },
  {
   "cell_type": "code",
   "execution_count": null,
   "metadata": {},
   "outputs": [],
   "source": [
    "# app = JupyterDash(__name__)\n",
    "\n",
    "# app.layout = html.Div([\n",
    "#     html.H4(\"Want to see the callbacks in action!\"),\n",
    "#     html.Div([\n",
    "#         \"Input: \",\n",
    "#         dcc.Input(id='my-input', value='initial value', type='text')\n",
    "#     ]),\n",
    "#     html.Br(),\n",
    "#     html.Div(id='my-output'),\n",
    "\n",
    "# ])\n",
    "\n",
    "\n",
    "# @app.callback(\n",
    "#     Output(component_id='my-output', component_property='children'),\n",
    "#     Input(component_id='my-input', component_property='value')\n",
    "# )\n",
    "# def update_output_div(input_value):\n",
    "#     return f'Output: {input_value}'\n",
    "\n",
    "\n",
    "# if __name__ == '__main__':\n",
    "#     app.run_server(mode='inline')\n"
   ]
  },
  {
   "cell_type": "markdown",
   "metadata": {},
   "source": [
    "# Q3: Make Plotly-Dash that takes two inputs (numbers) and output 3 numbers x, y , z= x+y\n",
    "- hint: use html.Div, dcc.Input(type='number')"
   ]
  },
  {
   "cell_type": "code",
   "execution_count": null,
   "metadata": {},
   "outputs": [],
   "source": [
    "# app = JupyterDash(__name__)\n",
    "\n",
    "# app.layout = html.Div([\n",
    "#     html.H6(\"Change the value in the text box to see callbacks in action!\"),\n",
    "#     html.Div([\n",
    "#         \"Input: \",\n",
    "#         dcc.Input(id='my-input', value='initial value', type='text')\n",
    "#     ]),\n",
    "#     html.Div([\n",
    "#         \"Input: \",\n",
    "#         dcc.Input(id='my-input2', value='initial value 2', type='text')\n",
    "#     ]),\n",
    "#     html.Br(),\n",
    "#     html.Div(id='my-output'),\n",
    "\n",
    "# ])\n",
    "\n",
    "\n",
    "# @app.callback(\n",
    "#     Output(component_id='my-output', component_property='children'),\n",
    "#     Input(component_id='my-input', component_property='value'),\n",
    "#     Input(component_id='my-input2', component_property='value')\n",
    "# )\n",
    "# def update_output_div(input_value, input_value2):\n",
    "#     return f'Output: {input_value} and the second: {input_value2}'\n",
    "\n",
    "\n",
    "# if __name__ == '__main__':\n",
    "#     app.run_server(mode='inline')\n",
    "\n",
    "\n",
    "app = Dash(__name__)\n",
    "\n",
    "app.layout = html.Div([\n",
    "    html.H6(\"Change the value in the text boxes to see callbacks in action!\"),\n",
    "    html.Div([\n",
    "        \"Input 1: \",\n",
    "        dcc.Input(id='my-input', value='0', type='number')\n",
    "    ]),\n",
    "    html.Div([\n",
    "        \"Input 2: \",\n",
    "        dcc.Input(id='my-input2', value='0', type='number')\n",
    "    ]),\n",
    "    html.Br(),\n",
    "    html.Div(id='my-output')\n",
    "])\n",
    "\n",
    "@app.callback(\n",
    "    Output(component_id='my-output', component_property='children'),\n",
    "    [Input(component_id='my-input', component_property='value'),\n",
    "     Input(component_id='my-input2', component_property='value')]\n",
    ")\n",
    "def update_output_div(input_value, input_value2):\n",
    "    try:\n",
    "        sum_value = float(input_value) + float(input_value2)\n",
    "        return f\"Output: {input_value} + {input_value2} = {sum_value}\"\n",
    "    except ValueError:\n",
    "        return \"Invalid input! Please enter numbers.\"\n",
    "\n",
    "if __name__ == '__main__':\n",
    "    app.run_server()\n"
   ]
  },
  {
   "cell_type": "markdown",
   "metadata": {},
   "source": [
    "# Q4.1: Make JubyterDash with Rangeslider from 1-15 with 6 option"
   ]
  },
  {
   "cell_type": "code",
   "execution_count": null,
   "metadata": {},
   "outputs": [],
   "source": [
    "\n",
    "app = JupyterDash(__name__)\n",
    "\n",
    "app.layout = html.Div([\n",
    "    html.H1(\"RangeSlider Example\"),\n",
    "    html.Label(\"Select a range:\"),\n",
    "    dcc.RangeSlider(\n",
    "        id='range-slider',\n",
    "        marks={i: str(i) for i in range(1, 16)},\n",
    "        min=1,\n",
    "        max=15,\n",
    "        step=1,\n",
    "        value=[3, 9],\n",
    "    ),\n",
    "    html.Div(id='output')\n",
    "])\n",
    "\n",
    "@app.callback(\n",
    "    Output('output', 'children'),\n",
    "    [Input('range-slider', 'value')]\n",
    ")\n",
    "def update_output(value):\n",
    "    return f\"You have selected the range: {value[0]} to {value[1]}\"\n",
    "\n",
    "if __name__ == '__main__':\n",
    "    app.run_server(mode='inline')"
   ]
  },
  {
   "cell_type": "markdown",
   "metadata": {},
   "source": [
    "# Q4.2: add to the previous dash: Label, set default value on rangeslider as 7-10"
   ]
  },
  {
   "cell_type": "code",
   "execution_count": null,
   "metadata": {},
   "outputs": [],
   "source": [
    "\n",
    "app = dash.Dash(__name__)\n",
    "\n",
    "app.layout = html.Div([\n",
    "    html.H1(\"RangeSlider Example\"),\n",
    "    html.Label(\"Select a range:\"),\n",
    "    dcc.RangeSlider(\n",
    "        id='range-slider',\n",
    "        marks={i: str(i) for i in range(1, 16)},\n",
    "        min=1,\n",
    "        max=15,\n",
    "        step=1,\n",
    "        value=[7, 10],  # Set the default value to 7-10\n",
    "    ),\n",
    "    html.Div(id='output')\n",
    "])\n",
    "\n",
    "@app.callback(\n",
    "    Output('output', 'children'),\n",
    "    [Input('range-slider', 'value')]\n",
    ")\n",
    "def update_output(value):\n",
    "    return f\"You have selected the range: {value[0]} to {value[1]}\"\n",
    "\n",
    "if __name__ == '__main__':\n",
    "    app.run_server()\n"
   ]
  },
  {
   "cell_type": "markdown",
   "metadata": {},
   "source": [
    "# Q5: Make 3 different Dcc types (Dropdown - Checkbox...) in one dash"
   ]
  },
  {
   "cell_type": "code",
   "execution_count": null,
   "metadata": {},
   "outputs": [],
   "source": [
    "from dash import Dash, html, dcc, Input, Output\n",
    "\n",
    "# external_stylesheets = ['https://codepen.io/chriddyp/pen/bWLwgP.css']\n",
    "\n",
    "# app = Dash(__name__, external_stylesheets=external_stylesheets)\n",
    "# app.layout = html.Div([\n",
    "#     html.H1(\"Cities Dashboard\"),\n",
    "#     html.Br(),\n",
    "#     html.Br(),\n",
    "#     html.H2(\"Dash Checkbox Label\"),\n",
    "#     html.H3(\"Choose a City\"),\n",
    "#     dcc.Checklist(\n",
    "#     ['Jeddah', 'Riyadh', 'Dammam'],\n",
    "#     inline=True),\n",
    "#     html.Br(),\n",
    "#     html.Br(),\n",
    "#     html.H2(\"Dash Dropdown Label\"),\n",
    "#     html.H3(\"Choose a City\"),\n",
    "#     dcc.Dropdown(['Jeddah', 'Riyadh', 'Dammam']),\n",
    "#     html.Br(),\n",
    "#     html.Br(),\n",
    "#     html.H2(\"Dash Radio Label\"),\n",
    "#     html.H3(\"Choose a City\"),\n",
    "#     dcc.RadioItems(['Jeddah', 'Riyadh', 'Dammam'])\n",
    "# ])\n",
    "\n",
    "\n",
    "# if __name__ == '__main__':\n",
    "#     app.run_server(debug=True, use_reloader=False)\n",
    "\n",
    "\n",
    "app = dash.Dash(__name__)\n",
    "\n",
    "app.layout = html.Div(\n",
    "    children=[\n",
    "        html.H1(\"Dash App\"),\n",
    "        html.Div(\n",
    "            children=[\n",
    "                html.Label(\"Checkbox\"),\n",
    "                dcc.Checklist(\n",
    "        ['Car', 'Train', 'Plane'],\n",
    "        inline=True),\n",
    "                html.Br(),\n",
    "                html.Label(\"Dropdown\"),\n",
    "                dcc.Dropdown(\n",
    "                    id=\"dropdown\",\n",
    "                    options=[\n",
    "                        {\"label\": \"Car\", \"value\": \"Car\"},\n",
    "                        {\"label\": \"Train\", \"value\": \"Train\"},\n",
    "                        {\"label\": \"Plane\", \"value\": \"Plane\"},\n",
    "                    ],\n",
    "                    value=\"option1\",\n",
    "                ),\n",
    "                html.Br(),\n",
    "                html.Label(\"RadioItems\"),\n",
    "                dcc.RadioItems(\n",
    "                    id=\"radioitems\",\n",
    "                    options=[\n",
    "                        {\"label\": \"Car\", \"value\": \"Car\"},\n",
    "                        {\"label\": \"Train\", \"value\": \"Train\"},\n",
    "                        {\"label\": \"Plane\", \"value\": \"Plane\"},\n",
    "                    ],\n",
    "                    value=\"optionA\",\n",
    "                ),\n",
    "            ]\n",
    "        ),\n",
    "    ]\n",
    ")\n",
    "\n",
    "if __name__ == \"__main__\":\n",
    "    app.run_server(debug=True, use_reloader=False)\n"
   ]
  },
  {
   "cell_type": "markdown",
   "metadata": {},
   "source": [
    "# Q6: Make Plotly chart, then add it to a plotly_dash"
   ]
  },
  {
   "cell_type": "code",
   "execution_count": null,
   "metadata": {},
   "outputs": [],
   "source": [
    "import plotly.express as px"
   ]
  },
  {
   "cell_type": "code",
   "execution_count": null,
   "metadata": {},
   "outputs": [],
   "source": [
    "import plotly.graph_objects as go\n",
    "\n",
    "# Create data for the chart\n",
    "x_data = [1, 2, 3, 4, 5]\n",
    "y_data = [10, 8, 6, 4, 2]\n",
    "\n",
    "# Create the scatter trace\n",
    "trace = go.Scatter(x=x_data, y=y_data, mode=\"markers\")\n",
    "\n",
    "# Create the layout\n",
    "layout = go.Layout(title=\"Plotly Chart\", xaxis=dict(title=\"X-axis\"), yaxis=dict(title=\"Y-axis\"))\n",
    "\n",
    "# Create the figure\n",
    "fig = go.Figure(data=[trace], layout=layout)\n",
    "\n",
    "# Display the chart\n",
    "fig.show()\n"
   ]
  },
  {
   "cell_type": "code",
   "execution_count": null,
   "metadata": {},
   "outputs": [],
   "source": [
    "import dash\n",
    "import dash_core_components as dcc\n",
    "import dash_html_components as html\n",
    "import plotly.graph_objects as go\n",
    "\n",
    "app = dash.Dash(__name__)\n",
    "\n",
    "app.layout = html.Div(children=[\n",
    "    html.H1(\"Plotly Chart\"),\n",
    "    dcc.Graph(\n",
    "        figure=go.Figure(\n",
    "            data=[\n",
    "                go.Scatter(\n",
    "                    x=[1, 2, 3, 4, 5],\n",
    "                    y=[10, 8, 6, 4, 2],\n",
    "                    mode=\"markers\",\n",
    "                    marker=dict(\n",
    "                        size=12,\n",
    "                        color=\"blue\",\n",
    "                    ),\n",
    "                    name=\"Data\",\n",
    "                )\n",
    "            ],\n",
    "            layout=go.Layout(\n",
    "                title=\"Scatter Plot\",\n",
    "                xaxis=dict(title=\"X\"),\n",
    "                yaxis=dict(title=\"Y\"),\n",
    "            ),\n",
    "        )\n",
    "    )\n",
    "])\n",
    "\n",
    "if __name__ == \"__main__\":\n",
    "    app.run_server(debug=True, use_reloader=False)\n"
   ]
  },
  {
   "cell_type": "markdown",
   "metadata": {},
   "source": [
    "# Q7: From our data make plotly-dash with suitble chart, and Dropdown.\n",
    "\n",
    "- Dropdown should contain at least 3 options, each one represents different column.\n",
    "- Add label to dropdown.\n",
    "- The chart data should change depending on the selected dropdown option."
   ]
  },
  {
   "cell_type": "code",
   "execution_count": null,
   "metadata": {},
   "outputs": [],
   "source": [
    "import pandas as pd\n",
    "df = pd.read_csv(\"titanic passenger list.csv\")\n",
    "df.head()"
   ]
  },
  {
   "cell_type": "code",
   "execution_count": null,
   "metadata": {},
   "outputs": [],
   "source": [
    "import dash\n",
    "import dash_core_components as dcc\n",
    "import dash_html_components as html\n",
    "import plotly.express as px\n",
    "df = pd.read_csv(\"titanic passenger list.csv\")\n",
    "df =df[[\"age\", \"survived\",\"fare\"]]\n",
    "app = dash.Dash(__name__)\n",
    "\n",
    "app.layout = html.Div([\n",
    "    html.Label(\"Select a column:\"),\n",
    "    dcc.Dropdown(\n",
    "        id=\"column-dropdown\",\n",
    "        options=[\n",
    "            {\"label\": \"Age\", \"value\": \"age\"},\n",
    "            {\"label\": \"Fare\", \"value\": \"fare\"},\n",
    "            {\"label\": \"Survived\", \"value\": \"survived\"}\n",
    "        ],\n",
    "        value=\"age\"\n",
    "    ),\n",
    "    html.Br(),\n",
    "    html.Label(\"Select chart type:\"),\n",
    "    dcc.Checklist(\n",
    "        id=\"chart-type-checklist\",\n",
    "        options=[\n",
    "            {\"label\": \"Bar Chart\", \"value\": \"bar\"},\n",
    "            {\"label\": \"Pie Chart\", \"value\": \"pie\"},\n",
    "            {\"label\": \"Scatter Plot\", \"value\": \"scatter\"}\n",
    "        ],\n",
    "        value=[\"bar\", \"scatter\"]\n",
    "    ),\n",
    "    html.Div(id=\"charts-container\")\n",
    "])\n",
    "\n",
    "@app.callback(\n",
    "    dash.dependencies.Output(\"charts-container\", \"children\"),\n",
    "    [\n",
    "        dash.dependencies.Input(\"column-dropdown\", \"value\"),\n",
    "        dash.dependencies.Input(\"chart-type-checklist\", \"value\")\n",
    "    ]\n",
    ")\n",
    "def update_charts(selected_column, selected_chart_types):\n",
    "    charts = []\n",
    "    for chart_type in selected_chart_types:\n",
    "        if chart_type == \"bar\":\n",
    "            fig = px.bar(df, x=\"age\", y=selected_column)\n",
    "        elif chart_type == \"pie\":\n",
    "            fig = px.pie(df, values=selected_column, names=\"survived\")\n",
    "        elif chart_type == \"scatter\":\n",
    "            fig = px.scatter(df, x=\"age\", y=\"fare\", color=selected_column)\n",
    "        charts.append(dcc.Graph(figure=fig))\n",
    "    return charts\n",
    "if __name__ == '__main__':\n",
    "    app.run_server(debug=True, use_reloader=False)"
   ]
  },
  {
   "cell_type": "markdown",
   "metadata": {},
   "source": [
    "# Q8: add 2 more charts to the prevoius Ploty-Dash the anwer in Q7"
   ]
  },
  {
   "cell_type": "markdown",
   "metadata": {},
   "source": [
    "# Q9: Search for \"Plotly Gallery\" and fetch for a graph and use it with our data.\n",
    "\n",
    "- Note: You need to put the resourse addres of fetched your grapth."
   ]
  },
  {
   "cell_type": "code",
   "execution_count": null,
   "metadata": {},
   "outputs": [],
   "source": [
    "import datetime\n",
    "import numpy as np\n",
    "import pandas as pd\n",
    "\n",
    "# import plotly.graph_objects as go\n",
    "# from ipywidgets import widgets\n",
    "df = pd.read_csv(\"titanic passenger list.csv\")\n",
    "df.head()"
   ]
  },
  {
   "cell_type": "code",
   "execution_count": null,
   "metadata": {
    "scrolled": true
   },
   "outputs": [],
   "source": [
    "import plotly.graph_objects as go\n",
    "\n",
    "# Sample data\n",
    "data = df['age']\n",
    "\n",
    "# Create a box trace\n",
    "trace = go.Box(y=data)\n",
    "\n",
    "# Create a layout\n",
    "layout = go.Layout(title=\"Box Plot Example\")\n",
    "\n",
    "# Create a figure\n",
    "fig = go.Figure(data=[trace], layout=layout)\n",
    "\n",
    "# Display the plot\n",
    "fig.show()\n"
   ]
  },
  {
   "cell_type": "markdown",
   "metadata": {},
   "source": [
    "https://plotly.com/python/box-plots/"
   ]
  },
  {
   "cell_type": "markdown",
   "metadata": {},
   "source": [
    "# Challenge 1.1: Create Plotly dash with two charts depends on different columns of the data\n",
    "- First Chart : Pie\n",
    "- Secound Chart: is by your Choice ( Not Pie )"
   ]
  },
  {
   "cell_type": "code",
   "execution_count": null,
   "metadata": {},
   "outputs": [],
   "source": [
    "import dash\n",
    "import dash_core_components as dcc\n",
    "import dash_html_components as html\n",
    "import plotly.express as px\n",
    "import pandas as pd\n",
    "\n",
    "# Sample data\n",
    "data = {\n",
    "    'Category': ['A', 'B', 'C', 'D'],\n",
    "    'Value1': [30, 15, 25, 20],\n",
    "    'Value2': [10, 30, 20, 40]\n",
    "}\n",
    "df = pd.DataFrame(data)\n",
    "\n",
    "# Initialize the app\n",
    "app = dash.Dash(__name__)\n",
    "\n",
    "# Define the app layout\n",
    "app.layout = html.Div([\n",
    "    html.H1(\"Two Charts Example\"),\n",
    "    \n",
    "    # Pie chart\n",
    "    html.Div([\n",
    "        dcc.Graph(\n",
    "            id='pie-chart',\n",
    "            figure=px.pie(df, values='Value1', names='Category', title='Pie Chart')\n",
    "        )\n",
    "    ]),\n",
    "    \n",
    "    # Bar chart\n",
    "    html.Div([\n",
    "        dcc.Graph(\n",
    "            id='bar-chart',\n",
    "            figure=px.bar(df, x='Category', y='Value2', title='Bar Chart')\n",
    "        )\n",
    "    ])\n",
    "])\n",
    "\n",
    "# Run the app\n",
    "if __name__ == '__main__':\n",
    "    app.run_server(debug=True, use_reloader=False)\n"
   ]
  },
  {
   "cell_type": "markdown",
   "metadata": {},
   "source": [
    "# Challenge 1.2: Make Hovering over a slice of the pie changes the data for the second chart depending on what the slice is."
   ]
  },
  {
   "cell_type": "code",
   "execution_count": null,
   "metadata": {},
   "outputs": [],
   "source": []
  }
 ],
 "metadata": {
  "kernelspec": {
   "display_name": "Python 3 (ipykernel)",
   "language": "python",
   "name": "python3"
  },
  "language_info": {
   "codemirror_mode": {
    "name": "ipython",
    "version": 3
   },
   "file_extension": ".py",
   "mimetype": "text/x-python",
   "name": "python",
   "nbconvert_exporter": "python",
   "pygments_lexer": "ipython3",
   "version": "3.10.9"
  }
 },
 "nbformat": 4,
 "nbformat_minor": 2
}
