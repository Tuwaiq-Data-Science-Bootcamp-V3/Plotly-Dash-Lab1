{
 "cells": [
  {
   "cell_type": "markdown",
   "metadata": {},
   "source": [
    "# Q0: import dash standard libraries"
   ]
  },
  {
   "cell_type": "code",
   "execution_count": 2,
   "metadata": {},
   "outputs": [],
   "source": [
    "from dash import Dash, dcc, html, Input, Output\n",
    "from jupyter_dash import JupyterDash"
   ]
  },
  {
   "cell_type": "markdown",
   "metadata": {},
   "source": [
    "# Q1: Make dash that prints \"Data Science\""
   ]
  },
  {
   "cell_type": "code",
   "execution_count": null,
   "metadata": {},
   "outputs": [
    {
     "name": "stdout",
     "output_type": "stream",
     "text": [
      "Dash is running on http://127.0.0.1:8050/\n",
      "\n",
      " * Serving Flask app \"__main__\" (lazy loading)\n",
      " * Environment: production\n",
      "\u001b[31m   WARNING: This is a development server. Do not use it in a production deployment.\u001b[0m\n",
      "\u001b[2m   Use a production WSGI server instead.\u001b[0m\n",
      " * Debug mode: off\n"
     ]
    },
    {
     "name": "stderr",
     "output_type": "stream",
     "text": [
      " * Running on http://127.0.0.1:8050/ (Press CTRL+C to quit)\n"
     ]
    }
   ],
   "source": [
    "from dash import Dash, html\n",
    "app = Dash(__name__)\n",
    "\n",
    "app.layout = html.Div([\n",
    "    html.H1(children='Data Science')\n",
    "])\n",
    "#To view the running app directly in a Jupyter Notebook output cell\n",
    "if __name__ == '__main__':\n",
    "    app.run_server()  \n"
   ]
  },
  {
   "cell_type": "markdown",
   "metadata": {},
   "source": [
    "# Q2: Make dash that takes name input and outpt \"Welcome to Data Science dashboard {name}\""
   ]
  },
  {
   "cell_type": "code",
   "execution_count": 1,
   "metadata": {},
   "outputs": [
    {
     "name": "stdout",
     "output_type": "stream",
     "text": [
      "Dash is running on http://127.0.0.1:8050/\n",
      "\n"
     ]
    },
    {
     "data": {
      "text/html": [
       "\n",
       "        <iframe\n",
       "            width=\"100%\"\n",
       "            height=\"650\"\n",
       "            src=\"http://127.0.0.1:8050/\"\n",
       "            frameborder=\"0\"\n",
       "            allowfullscreen\n",
       "            \n",
       "        ></iframe>\n",
       "        "
      ],
      "text/plain": [
       "<IPython.lib.display.IFrame at 0x2878fb26550>"
      ]
     },
     "metadata": {},
     "output_type": "display_data"
    }
   ],
   "source": [
    "from dash import Dash, dcc, html, Input, Output\n",
    "from jupyter_dash import JupyterDash\n",
    "\n",
    "app = JupyterDash(__name__)\n",
    "\n",
    "app.layout = html.Div([\n",
    "    html.H6(\"enter your name\"),\n",
    "    html.Div([\n",
    "        \"name: \",\n",
    "        dcc.Input(id='my-input', value='initial value', type='text')\n",
    "    ]),\n",
    "\n",
    "    html.Br(),\n",
    "    html.Div(id='my-output'),\n",
    "\n",
    "])\n",
    "\n",
    "\n",
    "@app.callback(\n",
    "    Output(component_id='my-output', component_property='children'),\n",
    "    Input(component_id='my-input', component_property='value'),\n",
    "    \n",
    ")\n",
    "def update_output_div(name):\n",
    "    return f'Welcome to Data Science dashboard {name}'\n",
    "\n",
    "\n",
    "if __name__ == '__main__':\n",
    "    app.run_server(mode='inline')"
   ]
  },
  {
   "cell_type": "markdown",
   "metadata": {},
   "source": [
    "# Q3: Make Plotly-Dash that takes two inputs (numbers) and output 3 numbers x, y , z= x+y\n",
    "- hint: use html.Div, dcc.Input(type='number')"
   ]
  },
  {
   "cell_type": "code",
   "execution_count": 1,
   "metadata": {},
   "outputs": [
    {
     "name": "stdout",
     "output_type": "stream",
     "text": [
      "Dash is running on http://127.0.0.1:8050/\n",
      "\n"
     ]
    },
    {
     "data": {
      "text/html": [
       "\n",
       "        <iframe\n",
       "            width=\"100%\"\n",
       "            height=\"650\"\n",
       "            src=\"http://127.0.0.1:8050/\"\n",
       "            frameborder=\"0\"\n",
       "            allowfullscreen\n",
       "            \n",
       "        ></iframe>\n",
       "        "
      ],
      "text/plain": [
       "<IPython.lib.display.IFrame at 0x19366776f70>"
      ]
     },
     "metadata": {},
     "output_type": "display_data"
    }
   ],
   "source": [
    "from dash import Dash, dcc, html, Input, Output\n",
    "from jupyter_dash import JupyterDash\n",
    "\n",
    "app = JupyterDash(__name__)\n",
    "\n",
    "app.layout = html.Div([\n",
    "    html.H6(\"Change the value in the text box to see callbacks in action!\"),\n",
    "    html.Div([\n",
    "        \"x: \",\n",
    "        dcc.Input(id='my-input', value='initial value', type='number')\n",
    "    ]),\n",
    "    html.Div([\n",
    "        \"y: \",\n",
    "        dcc.Input(id='my-input2', value='initial value 2', type='number')\n",
    "    ]),\n",
    "    html.Br(),\n",
    "    html.Div(id='my-output'),\n",
    "\n",
    "])\n",
    "\n",
    "\n",
    "@app.callback(\n",
    "    Output(component_id='my-output', component_property='children'),\n",
    "    Input(component_id='my-input', component_property='value'),\n",
    "    Input(component_id='my-input2', component_property='value')\n",
    ")\n",
    "def update_output_div(input_value, input_value2):\n",
    "    return f'x=: {input_value}  y=: {input_value2} z= {input_value + input_value2}'\n",
    "\n",
    "\n",
    "if __name__ == '__main__':\n",
    "    app.run_server(mode='inline')"
   ]
  },
  {
   "cell_type": "markdown",
   "metadata": {},
   "source": [
    "# Q4.1: Make JubyterDash with Rangeslider from 1-15 with 6 option"
   ]
  },
  {
   "cell_type": "code",
   "execution_count": null,
   "metadata": {},
   "outputs": [
    {
     "name": "stdout",
     "output_type": "stream",
     "text": [
      "Dash is running on http://127.0.0.1:8050/\n",
      "\n",
      " * Serving Flask app \"__main__\" (lazy loading)\n",
      " * Environment: production\n",
      "\u001b[31m   WARNING: This is a development server. Do not use it in a production deployment.\u001b[0m\n",
      "\u001b[2m   Use a production WSGI server instead.\u001b[0m\n",
      " * Debug mode: off\n"
     ]
    },
    {
     "name": "stderr",
     "output_type": "stream",
     "text": [
      " * Running on http://127.0.0.1:8050/ (Press CTRL+C to quit)\n"
     ]
    }
   ],
   "source": [
    "from dash import Dash, dcc, html, Input, Output\n",
    "from jupyter_dash import JupyterDash\n",
    "app = Dash(__name__)\n",
    "app.layout = html.Div([\n",
    "dcc.RangeSlider(1, 15,3, id='my-range-slider'),\n",
    "html.Div(id='output-container-range-slider')\n",
    "])\n",
    "if __name__ == '__main__':\n",
    "    app.run_server()"
   ]
  },
  {
   "cell_type": "markdown",
   "metadata": {},
   "source": [
    "# Q4.2: add to the previous dash: Label, set default value on rangeslider as 7-10"
   ]
  },
  {
   "cell_type": "code",
   "execution_count": null,
   "metadata": {},
   "outputs": [
    {
     "name": "stdout",
     "output_type": "stream",
     "text": [
      "Dash is running on http://127.0.0.1:8050/\n",
      "\n",
      " * Serving Flask app \"__main__\" (lazy loading)\n",
      " * Environment: production\n",
      "\u001b[31m   WARNING: This is a development server. Do not use it in a production deployment.\u001b[0m\n",
      "\u001b[2m   Use a production WSGI server instead.\u001b[0m\n",
      " * Debug mode: off\n"
     ]
    },
    {
     "name": "stderr",
     "output_type": "stream",
     "text": [
      " * Running on http://127.0.0.1:8050/ (Press CTRL+C to quit)\n"
     ]
    }
   ],
   "source": [
    "from dash import Dash, dcc, html, Input, Output\n",
    "from jupyter_dash import JupyterDash\n",
    "app = Dash(__name__)\n",
    "app.layout = html.Div([\n",
    "\n",
    "    html.Label('Choose from RangeSlider'),\n",
    "\n",
    "    dcc.RangeSlider(1, 15,3,value=[7,10] ,id='my-range-slider'),\n",
    "\n",
    "    html.Div(id='output-container-range-slider')\n",
    "])\n",
    "if __name__ == '__main__':\n",
    "    app.run_server()"
   ]
  },
  {
   "cell_type": "markdown",
   "metadata": {},
   "source": [
    "# Q5: Make 3 different Dcc types (Dropdown - Checkbox...) in one dash"
   ]
  },
  {
   "cell_type": "code",
   "execution_count": null,
   "metadata": {},
   "outputs": [
    {
     "name": "stdout",
     "output_type": "stream",
     "text": [
      "Dash is running on http://127.0.0.1:8050/\n",
      "\n",
      " * Serving Flask app \"__main__\" (lazy loading)\n",
      " * Environment: production\n",
      "\u001b[31m   WARNING: This is a development server. Do not use it in a production deployment.\u001b[0m\n",
      "\u001b[2m   Use a production WSGI server instead.\u001b[0m\n",
      " * Debug mode: off\n"
     ]
    },
    {
     "name": "stderr",
     "output_type": "stream",
     "text": [
      " * Running on http://127.0.0.1:8050/ (Press CTRL+C to quit)\n"
     ]
    }
   ],
   "source": [
    "from dash import Dash, dcc, html\n",
    "\n",
    "app = Dash(__name__)\n",
    "\n",
    "app.layout = html.Div([\n",
    "   \n",
    "    \n",
    "    \n",
    "    html.Div([\n",
    "    dcc.Checklist(\n",
    "        ['Riyadh', 'Jeddah', 'Dammam'],\n",
    "        inline=True\n",
    "    )\n",
    "    ]),\n",
    "    \n",
    "    \n",
    "    \n",
    "    html.Div([\n",
    "    dcc.Dropdown(\n",
    "        ['Riyadh', 'Jeddah', 'Dammam'])\n",
    "    ]),\n",
    "    \n",
    "    \n",
    "    \n",
    "    html.Div([\n",
    "        dcc.RadioItems(\n",
    "        ['Riyadh', 'Jeddah', 'Dammam'])\n",
    "        \n",
    "        \n",
    "    ]),\n",
    "\n",
    "])\n",
    "\n",
    "if __name__ == '__main__':\n",
    "    app.run_server()"
   ]
  },
  {
   "cell_type": "markdown",
   "metadata": {},
   "source": [
    "# Q6: Make Plotly chart, then add it to a plotly_dash"
   ]
  },
  {
   "cell_type": "code",
   "execution_count": 1,
   "metadata": {},
   "outputs": [
    {
     "name": "stdout",
     "output_type": "stream",
     "text": [
      "Dash is running on http://127.0.0.1:8050/\n",
      "\n",
      "Dash app running on http://127.0.0.1:8050/\n"
     ]
    }
   ],
   "source": [
    "import dash_bootstrap_components as dbc\n",
    "from dash import Dash, dcc, html\n",
    "from jupyter_dash import JupyterDash\n",
    "from jupyter_dash import JupyterDash\n",
    "import plotly.express as px\n",
    "\n",
    "data = px.data.tips()\n",
    "fig=px.bar(data,'sex')\n",
    "app=JupyterDash(__name__,external_stylesheets=[dbc.themes.LUX])\n",
    "app.layout=dbc.Container([\n",
    "    dbc.Row([dcc.Graph(id='our_plot',figure=fig)])\n",
    "    \n",
    "])\n",
    "if __name__ == '__main__':\n",
    "    app.run_server()"
   ]
  },
  {
   "cell_type": "markdown",
   "metadata": {},
   "source": [
    "# Q7: From our data make plotly-dash with suitble chart, and Dropdown.\n",
    "\n",
    "- Dropdown should contain at least 3 options, each one represents different column.\n",
    "- Add label to dropdown.\n",
    "- The chart data should change depending on the selected dropdown option."
   ]
  },
  {
   "cell_type": "code",
   "execution_count": 4,
   "metadata": {},
   "outputs": [],
   "source": [
    "import pandas as pd\n",
    "data = pd.read_csv(\"titanic passenger list.csv\")"
   ]
  },
  {
   "cell_type": "code",
   "execution_count": 6,
   "metadata": {},
   "outputs": [
    {
     "name": "stdout",
     "output_type": "stream",
     "text": [
      "Dash is running on http://127.0.0.1:8050/\n",
      "\n"
     ]
    },
    {
     "data": {
      "text/html": [
       "\n",
       "        <iframe\n",
       "            width=\"100%\"\n",
       "            height=\"650\"\n",
       "            src=\"http://127.0.0.1:8050/\"\n",
       "            frameborder=\"0\"\n",
       "            allowfullscreen\n",
       "            \n",
       "        ></iframe>\n",
       "        "
      ],
      "text/plain": [
       "<IPython.lib.display.IFrame at 0x1c4a22084c0>"
      ]
     },
     "metadata": {},
     "output_type": "display_data"
    }
   ],
   "source": [
    "from dash import Dash, dcc, html, Input, Output\n",
    "import plotly.express as px\n",
    "from jupyter_dash import JupyterDash\n",
    "app = JupyterDash(__name__)\n",
    "\n",
    "\n",
    "app.layout = html.Div([\n",
    "    html.H4('titanic graph'),\n",
    "    html.P(\"Select column:\"),\n",
    "    dcc.Dropdown(\n",
    "        id=\"dropdown\",\n",
    "        options=['survived', 'sex', 'pclass'],\n",
    "        \n",
    "        clearable=False,\n",
    "    ),\n",
    "    dcc.Graph(id=\"graph\"),\n",
    "])\n",
    "\n",
    "\n",
    "@app.callback(\n",
    "    Output(\"graph\", \"figure\"), \n",
    "    Input(\"dropdown\", \"value\"))\n",
    "\n",
    "    \n",
    "def display_chart(column):\n",
    "    if column=='survive':\n",
    "        return px.pie(data,'survived',title='survived')\n",
    "    elif column=='sex':\n",
    "        return px.pie(data,'sex',title=\"Sex\")\n",
    "    else:\n",
    "        return px.pie(data,'pclass',title='pclass')\n",
    "    \n",
    "\n",
    "\n",
    "app.run_server(mode='inline')"
   ]
  },
  {
   "cell_type": "markdown",
   "metadata": {},
   "source": [
    "# Q8: add 2 more charts to the prevoius Ploty-Dash"
   ]
  },
  {
   "cell_type": "code",
   "execution_count": 12,
   "metadata": {},
   "outputs": [
    {
     "name": "stdout",
     "output_type": "stream",
     "text": [
      "Dash is running on http://127.0.0.1:8050/\n",
      "\n"
     ]
    },
    {
     "data": {
      "text/html": [
       "\n",
       "        <iframe\n",
       "            width=\"100%\"\n",
       "            height=\"650\"\n",
       "            src=\"http://127.0.0.1:8050/\"\n",
       "            frameborder=\"0\"\n",
       "            allowfullscreen\n",
       "            \n",
       "        ></iframe>\n",
       "        "
      ],
      "text/plain": [
       "<IPython.lib.display.IFrame at 0x237bfb9c4c0>"
      ]
     },
     "metadata": {},
     "output_type": "display_data"
    }
   ],
   "source": [
    "from dash import Dash, dcc, html, Input, Output\n",
    "from jupyter_dash import JupyterDash\n",
    "import pandas as pd\n",
    "data = pd.read_csv(\"titanic passenger list.csv\")\n",
    "app = JupyterDash(__name__)\n",
    "\n",
    "\n",
    "app.layout = html.Div([\n",
    "    html.H4('titanic graph'),\n",
    "    html.P(\"Select column:\"),\n",
    "    dcc.Dropdown(\n",
    "        id=\"dropdown\",\n",
    "        options=['survived', 'sex', 'pclass'],\n",
    "        \n",
    "        clearable=False,\n",
    "    ),\n",
    "    dcc.Graph(id=\"graph\"),\n",
    "    dcc.Graph(id='our_plot',figure=px.box(data,'age',title=\"AGE\")),\n",
    "dcc.Graph(id='plot',figure=px.bar(data['sibsp'].value_counts()))\n",
    "])\n",
    "\n",
    "\n",
    "@app.callback(\n",
    "    Output(\"graph\", \"figure\"), \n",
    "    Input(\"dropdown\", \"value\"))\n",
    "\n",
    "    \n",
    "def display_chart(column):\n",
    "    if column=='survive':\n",
    "        return px.pie(data,'survived',title='survived')\n",
    "    elif column=='sex':\n",
    "        return px.pie(data,'sex',title=\"Sex\")\n",
    "    else:\n",
    "        return px.pie(data,'pclass',title='pclass')\n",
    "    \n",
    "\n",
    "\n",
    "app.run_server(mode='inline')"
   ]
  },
  {
   "cell_type": "markdown",
   "metadata": {},
   "source": [
    "# Q9: Search for \"Plotly Gallery\" and fetch for a graph and use it with our data.\n",
    "\n",
    "- Note: You need to put the resourse addres of fetched your grapth."
   ]
  },
  {
   "cell_type": "code",
   "execution_count": null,
   "metadata": {},
   "outputs": [
    {
     "name": "stdout",
     "output_type": "stream",
     "text": [
      "Dash is running on http://127.0.0.1:8050/\n",
      "\n",
      " * Serving Flask app \"__main__\" (lazy loading)\n",
      " * Environment: production\n",
      "\u001b[31m   WARNING: This is a development server. Do not use it in a production deployment.\u001b[0m\n",
      "\u001b[2m   Use a production WSGI server instead.\u001b[0m\n",
      " * Debug mode: on\n"
     ]
    },
    {
     "name": "stderr",
     "output_type": "stream",
     "text": [
      "C:\\Users\\alban\\AppData\\Local\\Temp\\ipykernel_21516\\616869408.py:15: UserWarning:\n",
      "\n",
      "\n",
      "The dash_core_components package is deprecated. Please replace\n",
      "`import dash_core_components as dcc` with `from dash import dcc`\n",
      "\n",
      "C:\\Users\\alban\\AppData\\Local\\Temp\\ipykernel_21516\\616869408.py:16: UserWarning:\n",
      "\n",
      "\n",
      "The dash_html_components package is deprecated. Please replace\n",
      "`import dash_html_components as html` with `from dash import html`\n",
      "\n"
     ]
    }
   ],
   "source": [
    "#resource https://plotly.com/python/bar-charts/\n",
    "\n",
    "from dash import Dash, dcc, html, Input, Output\n",
    "import plotly.express as px\n",
    "import pandas as pd\n",
    "import plotly.graph_objects as go # or plotly.express as px\n",
    "data = pd.read_csv(\"titanic passenger list.csv\") \n",
    "fig = px.bar(data['parch'].value_counts()) # or any Plotly Express function e.g. px.bar(...)\n",
    "# fig.add_trace( ... )\n",
    "# fig.update_layout( ... )\n",
    "\n",
    "import dash\n",
    "import dash_core_components as dcc\n",
    "import dash_html_components as html\n",
    "\n",
    "app = dash.Dash()\n",
    "app.layout = html.Div([\n",
    "    dcc.Graph(figure=fig)\n",
    "])\n",
    "\n",
    "app.run_server(debug=True, use_reloader=False)"
   ]
  },
  {
   "cell_type": "markdown",
   "metadata": {},
   "source": [
    "# Challenge 1.1: Create Plotly dash with two charts depends on different columns of the data\n",
    "- First Chart : Pie\n",
    "- Secound Chart: is by your Choice ( Not Pie )"
   ]
  },
  {
   "cell_type": "code",
   "execution_count": null,
   "metadata": {},
   "outputs": [],
   "source": []
  },
  {
   "cell_type": "markdown",
   "metadata": {},
   "source": [
    "# Challenge 1.2: Make Hovering over a slice of the pie changes the data for the second chart depending on what the slice is."
   ]
  },
  {
   "cell_type": "code",
   "execution_count": null,
   "metadata": {},
   "outputs": [],
   "source": []
  }
 ],
 "metadata": {
  "kernelspec": {
   "display_name": "Python 3 (ipykernel)",
   "language": "python",
   "name": "python3"
  },
  "language_info": {
   "codemirror_mode": {
    "name": "ipython",
    "version": 3
   },
   "file_extension": ".py",
   "mimetype": "text/x-python",
   "name": "python",
   "nbconvert_exporter": "python",
   "pygments_lexer": "ipython3",
   "version": "3.9.13"
  }
 },
 "nbformat": 4,
 "nbformat_minor": 2
}
