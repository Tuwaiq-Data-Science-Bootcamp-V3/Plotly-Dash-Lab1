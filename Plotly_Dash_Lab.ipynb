{
 "cells": [
  {
   "attachments": {},
   "cell_type": "markdown",
   "metadata": {},
   "source": [
    "# Q0: import dash standard libraries"
   ]
  },
  {
   "cell_type": "code",
   "execution_count": 2,
   "metadata": {},
   "outputs": [],
   "source": [
    "from dash import Dash, dcc, html, Input, Output\n",
    "from jupyter_dash import JupyterDash"
   ]
  },
  {
   "attachments": {},
   "cell_type": "markdown",
   "metadata": {},
   "source": [
    "# Q1: Make dash that prints \"Data Science\""
   ]
  },
  {
   "cell_type": "code",
   "execution_count": 9,
   "metadata": {},
   "outputs": [
    {
     "name": "stdout",
     "output_type": "stream",
     "text": [
      "Dash is running on http://127.0.0.1:8050/\n",
      "\n",
      "Dash app running on http://127.0.0.1:8050/\n"
     ]
    }
   ],
   "source": [
    "name=\"Tuwiq_DS\"\n",
    "app = JupyterDash(name)\n",
    "\n",
    "app.layout = html.Div(\n",
    "    children=[\n",
    "        html.H1(\"Data Science\")\n",
    "    ]\n",
    ")\n",
    "\n",
    "if __name__ == '__main__':\n",
    "    app.run_server()\n"
   ]
  },
  {
   "attachments": {},
   "cell_type": "markdown",
   "metadata": {},
   "source": [
    "# Q2: Make dash that takes name input and outpt \"Welcome to Data Science dashboard {name}\""
   ]
  },
  {
   "cell_type": "code",
   "execution_count": 25,
   "metadata": {},
   "outputs": [
    {
     "name": "stdout",
     "output_type": "stream",
     "text": [
      "Dash is running on http://127.0.0.1:8050/\n",
      "\n"
     ]
    },
    {
     "data": {
      "text/html": [
       "\n",
       "        <iframe\n",
       "            width=\"100%\"\n",
       "            height=\"650\"\n",
       "            src=\"http://127.0.0.1:8050/\"\n",
       "            frameborder=\"0\"\n",
       "            allowfullscreen\n",
       "            \n",
       "        ></iframe>\n",
       "        "
      ],
      "text/plain": [
       "<IPython.lib.display.IFrame at 0x15fe589b290>"
      ]
     },
     "metadata": {},
     "output_type": "display_data"
    }
   ],
   "source": [
    "app = JupyterDash(__name__)\n",
    "\n",
    "app.layout = html.Div(\n",
    "    children=[\n",
    "        html.H1(\"Data Science\"),\n",
    "        html.Label(\"Enter your name:\"),\n",
    "        dcc.Input(id=\"name\", type=\"text\", placeholder=\"Enter your name\"),\n",
    "        html.Div(id=\"output\")\n",
    "    ]\n",
    ")\n",
    "\n",
    "@app.callback(\n",
    "    Output(\"output\", \"children\"),\n",
    "    [Input(\"name\", \"value\")]\n",
    ")\n",
    "def update_output(name):\n",
    "    if name:\n",
    "        return html.H3(f\"Welcome to the Data Science dashboard, {name}!\")\n",
    "    else:\n",
    "        return \"\"\n",
    "\n",
    "if __name__ == '__main__':\n",
    "    app.run_server(mode='inline')\n"
   ]
  },
  {
   "attachments": {},
   "cell_type": "markdown",
   "metadata": {},
   "source": [
    "# Q3: Make Plotly-Dash that takes two inputs (numbers) and output 3 numbers x, y , z= x+y\n",
    "- hint: use html.Div, dcc.Input(type='number')"
   ]
  },
  {
   "cell_type": "code",
   "execution_count": 32,
   "metadata": {},
   "outputs": [
    {
     "name": "stdout",
     "output_type": "stream",
     "text": [
      "Dash is running on http://127.0.0.1:8050/\n",
      "\n"
     ]
    },
    {
     "data": {
      "text/html": [
       "\n",
       "        <iframe\n",
       "            width=\"100%\"\n",
       "            height=\"650\"\n",
       "            src=\"http://127.0.0.1:8050/\"\n",
       "            frameborder=\"0\"\n",
       "            allowfullscreen\n",
       "            \n",
       "        ></iframe>\n",
       "        "
      ],
      "text/plain": [
       "<IPython.lib.display.IFrame at 0x15fe61a5310>"
      ]
     },
     "metadata": {},
     "output_type": "display_data"
    }
   ],
   "source": [
    "app = JupyterDash(__name__)\n",
    "\n",
    "app.layout = html.Div(\n",
    "    children=[\n",
    "        html.H1(\"Summation\"),\n",
    "        html.Label(\"Enter X:\"),\n",
    "        dcc.Input(id=\"inputx\", type=\"number\", placeholder=\"Enter number\"),\n",
    "        html.Label(\"Enter Y:\"),\n",
    "        dcc.Input(id=\"inputy\", type=\"number\", placeholder=\"Enter number\"),\n",
    "        html.Button(\"Calculate\", id=\"button\"),\n",
    "        html.Div(id=\"outputx\"),\n",
    "        html.Div(id=\"outputy\"),\n",
    "        html.Div(id=\"outputz\"),\n",
    "    ]\n",
    ")\n",
    "\n",
    "@app.callback(\n",
    "    Output(\"outputx\", \"children\"),\n",
    "    Output(\"outputy\", \"children\"),\n",
    "    Output(\"outputz\", \"children\"),\n",
    "    [Input(\"button\", \"n_clicks\")],\n",
    "    [Input(\"inputx\", \"value\"), Input(\"inputy\", \"value\")]\n",
    ")\n",
    "def calculate_numbers(n_clicks, x, y):\n",
    "    if n_clicks and x is not None and y is not None:\n",
    "        x = float(x)\n",
    "        y = float(y)\n",
    "        z = x + y\n",
    "        return f\"x: {x}\", f\"y: {y}\", f\"z: {z}\"\n",
    "    else:\n",
    "        return \"\", \"\", \"\"\n",
    "\n",
    "if __name__ == '__main__':\n",
    "    app.run_server(mode='inline')\n"
   ]
  },
  {
   "attachments": {},
   "cell_type": "markdown",
   "metadata": {},
   "source": [
    "# Q4.1: Make JubyterDash with Rangeslider from 1-15 with 6 option"
   ]
  },
  {
   "cell_type": "code",
   "execution_count": 47,
   "metadata": {},
   "outputs": [
    {
     "name": "stdout",
     "output_type": "stream",
     "text": [
      "Dash is running on http://127.0.0.1:8050/\n",
      "\n"
     ]
    },
    {
     "data": {
      "text/html": [
       "\n",
       "        <iframe\n",
       "            width=\"100%\"\n",
       "            height=\"650\"\n",
       "            src=\"http://127.0.0.1:8050/\"\n",
       "            frameborder=\"0\"\n",
       "            allowfullscreen\n",
       "            \n",
       "        ></iframe>\n",
       "        "
      ],
      "text/plain": [
       "<IPython.lib.display.IFrame at 0x15fe6030650>"
      ]
     },
     "metadata": {},
     "output_type": "display_data"
    }
   ],
   "source": [
    "app = JupyterDash(__name__)\n",
    "\n",
    "app.layout = html.Div([ \n",
    "    dcc.RangeSlider(min=1,max=15,step=1,count=6, id='slider'),\n",
    "                      html.Div(id='output-slider') \n",
    "                    ])\n",
    "if __name__ == '__main__':\n",
    "    app.run_server(mode='inline')"
   ]
  },
  {
   "attachments": {},
   "cell_type": "markdown",
   "metadata": {},
   "source": [
    "# Q4.2: add to the previous dash: Label, set default value on rangeslider as 7-10"
   ]
  },
  {
   "cell_type": "code",
   "execution_count": 55,
   "metadata": {},
   "outputs": [
    {
     "name": "stdout",
     "output_type": "stream",
     "text": [
      "Dash is running on http://127.0.0.1:8050/\n",
      "\n"
     ]
    },
    {
     "data": {
      "text/html": [
       "\n",
       "        <iframe\n",
       "            width=\"100%\"\n",
       "            height=\"650\"\n",
       "            src=\"http://127.0.0.1:8050/\"\n",
       "            frameborder=\"0\"\n",
       "            allowfullscreen\n",
       "            \n",
       "        ></iframe>\n",
       "        "
      ],
      "text/plain": [
       "<IPython.lib.display.IFrame at 0x15fe6b3dd10>"
      ]
     },
     "metadata": {},
     "output_type": "display_data"
    }
   ],
   "source": [
    "app = JupyterDash(__name__)\n",
    "\n",
    "app.layout = html.Div([ \n",
    "    html.Label('Choose from RangeSlider'), \n",
    "    dcc.RangeSlider(min=1,max=15,value=[7,10],step=3,count=6, id='slider'),\n",
    "                      html.Div(id='output-slider') \n",
    "                    ])\n",
    "if __name__ == '__main__':\n",
    "    app.run_server(mode='inline')"
   ]
  },
  {
   "attachments": {},
   "cell_type": "markdown",
   "metadata": {},
   "source": [
    "# Q5: Make 3 different Dcc types (Dropdown - Checkbox...) in one dash"
   ]
  },
  {
   "cell_type": "code",
   "execution_count": 65,
   "metadata": {},
   "outputs": [
    {
     "name": "stdout",
     "output_type": "stream",
     "text": [
      "Dash is running on http://127.0.0.1:8050/\n",
      "\n"
     ]
    },
    {
     "data": {
      "text/html": [
       "\n",
       "        <iframe\n",
       "            width=\"100%\"\n",
       "            height=\"650\"\n",
       "            src=\"http://127.0.0.1:8050/\"\n",
       "            frameborder=\"0\"\n",
       "            allowfullscreen\n",
       "            \n",
       "        ></iframe>\n",
       "        "
      ],
      "text/plain": [
       "<IPython.lib.display.IFrame at 0x15fe549ae50>"
      ]
     },
     "metadata": {},
     "output_type": "display_data"
    }
   ],
   "source": [
    "import dash\n",
    "import dash_html_components as html\n",
    "import dash_core_components as dcc\n",
    "from jupyter_dash import JupyterDash\n",
    "\n",
    "app = JupyterDash(__name__)\n",
    "\n",
    "# Define the layout of the app\n",
    "app.layout = html.Div([\n",
    "    html.H1(\"3 Types of DCC Components\"),\n",
    "    \n",
    "    html.Label(\"Dropdown:\"),\n",
    "    dcc.Dropdown(\n",
    "        options=[\n",
    "            {'label': 'Best library', 'value': 'option1'},\n",
    "            {'label': 'Matplot', 'value': 'option2'},\n",
    "            {'label': 'Seaborn', 'value': 'option3'},\n",
    "            {'label': 'Plotly', 'value': 'option4'}\n",
    "        ],\n",
    "        value='option1'\n",
    "    ),\n",
    "    \n",
    "    html.Br(),\n",
    "    \n",
    "    html.Label(\"Checkbox:\"),\n",
    "    dcc.Checklist(\n",
    "        options=[\n",
    "            {'label': 'Python', 'value': 'checkbox1'},\n",
    "            {'label': 'Java', 'value': 'checkbox2'},\n",
    "            {'label': 'C', 'value': 'checkbox3'}\n",
    "        ],\n",
    "        value=['checkbox1', 'checkbox3']\n",
    "    ),\n",
    "    \n",
    "    html.Br(),\n",
    "    \n",
    "    html.Label(\"Radio Buttons:\"),\n",
    "    dcc.RadioItems(\n",
    "        options=[\n",
    "            {'label': 'Data Science', 'value': 'option1'},\n",
    "            {'label': 'Data Engineer', 'value': 'option2'},\n",
    "            {'label': 'Data Analyst', 'value': 'option3'}\n",
    "        ],\n",
    "        value='option1'\n",
    "    ),\n",
    "])\n",
    "\n",
    "if __name__ == '__main__':\n",
    "    app.run_server(mode='inline')\n"
   ]
  },
  {
   "cell_type": "code",
   "execution_count": null,
   "metadata": {},
   "outputs": [],
   "source": [
    "app = JupyterDash(__name__)\n",
    "\n",
    "app.layout = html.Div([ \n",
    "    html.h1(\"3 Dcc Types\")\n",
    "    html.Label('Choose from RangeSlider'), \n",
    "    dcc.RangeSlider(min=1,max=15,value=[7,10],step=1,count=6, id='slider'),\n",
    "                      html.Div(id='output-slider') \n",
    "                    ])\n",
    "if __name__ == '__main__':\n",
    "    app.run_server(mode='inline')"
   ]
  },
  {
   "attachments": {},
   "cell_type": "markdown",
   "metadata": {},
   "source": [
    "# Q6: Make Plotly chart, then add it to a plotly_dash"
   ]
  },
  {
   "cell_type": "code",
   "execution_count": 70,
   "metadata": {},
   "outputs": [],
   "source": [
    "import plotly.express as px\n",
    "import pandas as pd"
   ]
  },
  {
   "cell_type": "code",
   "execution_count": 71,
   "metadata": {},
   "outputs": [
    {
     "name": "stdout",
     "output_type": "stream",
     "text": [
      "Dash is running on http://127.0.0.1:8050/\n",
      "\n"
     ]
    },
    {
     "data": {
      "text/html": [
       "\n",
       "        <iframe\n",
       "            width=\"100%\"\n",
       "            height=\"650\"\n",
       "            src=\"http://127.0.0.1:8050/\"\n",
       "            frameborder=\"0\"\n",
       "            allowfullscreen\n",
       "            \n",
       "        ></iframe>\n",
       "        "
      ],
      "text/plain": [
       "<IPython.lib.display.IFrame at 0x15ff73f1510>"
      ]
     },
     "metadata": {},
     "output_type": "display_data"
    }
   ],
   "source": [
    "app = JupyterDash(__name__)\n",
    "\n",
    "# Create a Plotly chart using plotly.express\n",
    "data = {\n",
    "    'City': ['New York', 'London', 'Paris', 'Tokyo', 'Sydney'],\n",
    "    'Population': [8.4, 8.9, 2.2, 9.7, 5.3],\n",
    "    'GDP': [17682, 30391, 25829, 53718, 50030]\n",
    "}\n",
    "df = pd.DataFrame(data)\n",
    "fig = px.bar(df, x='City', y='Population', color='GDP', barmode='group')\n",
    "\n",
    "app.layout = html.Div([\n",
    "    html.H1(\"Population and GDP by City\"),\n",
    "    \n",
    "    dcc.Graph(\n",
    "        id='mychart',\n",
    "        figure=fig\n",
    "    )\n",
    "])\n",
    "\n",
    "if __name__ == '__main__':\n",
    "    app.run_server(mode='inline')\n"
   ]
  },
  {
   "cell_type": "code",
   "execution_count": null,
   "metadata": {},
   "outputs": [],
   "source": []
  },
  {
   "attachments": {},
   "cell_type": "markdown",
   "metadata": {},
   "source": [
    "# Q7: From our data make plotly-dash with suitble chart, and Dropdown.\n",
    "\n",
    "- Dropdown should contain at least 3 options, each one represents different column.\n",
    "- Add label to dropdown.\n",
    "- The chart data should change depending on the selected dropdown option."
   ]
  },
  {
   "cell_type": "code",
   "execution_count": null,
   "metadata": {},
   "outputs": [],
   "source": [
    "import pandas as pd\n",
    "df = pd.read_csv(\"titanic passenger list.csv\")"
   ]
  },
  {
   "cell_type": "code",
   "execution_count": 73,
   "metadata": {},
   "outputs": [
    {
     "data": {
      "text/html": [
       "<div>\n",
       "<style scoped>\n",
       "    .dataframe tbody tr th:only-of-type {\n",
       "        vertical-align: middle;\n",
       "    }\n",
       "\n",
       "    .dataframe tbody tr th {\n",
       "        vertical-align: top;\n",
       "    }\n",
       "\n",
       "    .dataframe thead th {\n",
       "        text-align: right;\n",
       "    }\n",
       "</style>\n",
       "<table border=\"1\" class=\"dataframe\">\n",
       "  <thead>\n",
       "    <tr style=\"text-align: right;\">\n",
       "      <th></th>\n",
       "      <th>City</th>\n",
       "      <th>Population</th>\n",
       "      <th>GDP</th>\n",
       "    </tr>\n",
       "  </thead>\n",
       "  <tbody>\n",
       "    <tr>\n",
       "      <th>0</th>\n",
       "      <td>New York</td>\n",
       "      <td>8.4</td>\n",
       "      <td>17682</td>\n",
       "    </tr>\n",
       "    <tr>\n",
       "      <th>1</th>\n",
       "      <td>London</td>\n",
       "      <td>8.9</td>\n",
       "      <td>30391</td>\n",
       "    </tr>\n",
       "    <tr>\n",
       "      <th>2</th>\n",
       "      <td>Paris</td>\n",
       "      <td>2.2</td>\n",
       "      <td>25829</td>\n",
       "    </tr>\n",
       "    <tr>\n",
       "      <th>3</th>\n",
       "      <td>Tokyo</td>\n",
       "      <td>9.7</td>\n",
       "      <td>53718</td>\n",
       "    </tr>\n",
       "    <tr>\n",
       "      <th>4</th>\n",
       "      <td>Sydney</td>\n",
       "      <td>5.3</td>\n",
       "      <td>50030</td>\n",
       "    </tr>\n",
       "  </tbody>\n",
       "</table>\n",
       "</div>"
      ],
      "text/plain": [
       "       City  Population    GDP\n",
       "0  New York         8.4  17682\n",
       "1    London         8.9  30391\n",
       "2     Paris         2.2  25829\n",
       "3     Tokyo         9.7  53718\n",
       "4    Sydney         5.3  50030"
      ]
     },
     "execution_count": 73,
     "metadata": {},
     "output_type": "execute_result"
    }
   ],
   "source": [
    "df.head(10)"
   ]
  },
  {
   "cell_type": "code",
   "execution_count": 76,
   "metadata": {},
   "outputs": [
    {
     "name": "stdout",
     "output_type": "stream",
     "text": [
      "Dash is running on http://127.0.0.1:8050/\n",
      "\n"
     ]
    },
    {
     "data": {
      "text/html": [
       "\n",
       "        <iframe\n",
       "            width=\"100%\"\n",
       "            height=\"650\"\n",
       "            src=\"http://127.0.0.1:8050/\"\n",
       "            frameborder=\"0\"\n",
       "            allowfullscreen\n",
       "            \n",
       "        ></iframe>\n",
       "        "
      ],
      "text/plain": [
       "<IPython.lib.display.IFrame at 0x15ff9572090>"
      ]
     },
     "metadata": {},
     "output_type": "display_data"
    }
   ],
   "source": [
    "app = JupyterDash(__name__)\n",
    "\n",
    "# Dropdown options based on the columns\n",
    "dropdown_opt = [\n",
    "    {'label': 'GDP', 'value': 'GDP'},\n",
    "    {'label': 'Population', 'value': 'Population'},\n",
    "    {'label': 'City', 'value': 'City'}\n",
    "]\n",
    "\n",
    "# Define the layout of the app\n",
    "app.layout = html.Div([\n",
    "    html.H1(\"Titanic Passenger Data\"),\n",
    "    \n",
    "    html.Div([\n",
    "        html.Label(\"Select Column:\"),\n",
    "        dcc.Dropdown(\n",
    "            id='coldropdown',\n",
    "            options=dropdown_opt,\n",
    "            value=dropdown_opt[0]['value']\n",
    "        )\n",
    "    ], style={'margin-bottom': '20px'}),\n",
    "    \n",
    "    html.Div([\n",
    "        dcc.Graph(id='chart')\n",
    "    ])\n",
    "])\n",
    "\n",
    "# Define the callback function to update the chart\n",
    "@app.callback(\n",
    "    dash.dependencies.Output('chart', 'figure'),\n",
    "    [dash.dependencies.Input('coldropdown', 'value')]\n",
    ")\n",
    "def update_chart(selected_col):\n",
    "    fig = px.histogram(df, x=selected_col)\n",
    "    return fig\n",
    "\n",
    "if __name__ == '__main__':\n",
    "    app.run_server(mode='inline')\n"
   ]
  },
  {
   "attachments": {},
   "cell_type": "markdown",
   "metadata": {},
   "source": [
    "# Q8: add 2 more charts to the prevoius Ploty-Dash"
   ]
  },
  {
   "cell_type": "code",
   "execution_count": 83,
   "metadata": {},
   "outputs": [
    {
     "name": "stdout",
     "output_type": "stream",
     "text": [
      "Dash is running on http://127.0.0.1:8050/\n",
      "\n"
     ]
    },
    {
     "data": {
      "text/html": [
       "\n",
       "        <iframe\n",
       "            width=\"100%\"\n",
       "            height=\"650\"\n",
       "            src=\"http://127.0.0.1:8050/\"\n",
       "            frameborder=\"0\"\n",
       "            allowfullscreen\n",
       "            \n",
       "        ></iframe>\n",
       "        "
      ],
      "text/plain": [
       "<IPython.lib.display.IFrame at 0x15ff9ea9b90>"
      ]
     },
     "metadata": {},
     "output_type": "display_data"
    }
   ],
   "source": [
    "app = JupyterDash(__name__)\n",
    "\n",
    "# Dropdown options based on the columns\n",
    "dropdown_opt = [\n",
    "    {'label': 'GDP', 'value': 'GDP'},\n",
    "    {'label': 'Population', 'value': 'Population'},\n",
    "    {'label': 'City', 'value': 'City'}\n",
    "]\n",
    "\n",
    "# Define the layout of the app\n",
    "app.layout = html.Div([\n",
    "    html.H1(\"Titanic Passenger Data\"),\n",
    "    \n",
    "    html.Div([\n",
    "        html.Label(\"Select Column:\"),\n",
    "        dcc.Dropdown(\n",
    "            id='coldropdown',\n",
    "            options=dropdown_opt,\n",
    "            value=dropdown_opt[0]['value']\n",
    "        )\n",
    "    ], style={'margin-bottom': '20px'}),\n",
    "    \n",
    "    html.Div([\n",
    "        dcc.Graph(id='chart1', className='chart'),\n",
    "        dcc.Graph(id='chart2', className='chart'),\n",
    "        dcc.Graph(id='chart3', className='chart')\n",
    "    ], style={'display': 'flex', 'flex-wrap': 'wrap'})\n",
    "])\n",
    "\n",
    "# Define the callback functions to update the charts\n",
    "@app.callback(\n",
    "    dash.dependencies.Output('chart1', 'figure'),\n",
    "    [dash.dependencies.Input('coldropdown', 'value')]\n",
    ")\n",
    "def update_chart1(selected_col):\n",
    "    fig = px.histogram(df, x=selected_col)\n",
    "    return fig\n",
    "\n",
    "@app.callback(\n",
    "    dash.dependencies.Output('chart2', 'figure'),\n",
    "    [dash.dependencies.Input('coldropdown', 'value')]\n",
    ")\n",
    "def update_chart2(selected_col):\n",
    "    fig = px.box(df, x='City', y=selected_col)\n",
    "    return fig\n",
    "\n",
    "@app.callback(\n",
    "    dash.dependencies.Output('chart3', 'figure'),\n",
    "    [dash.dependencies.Input('coldropdown', 'value')]\n",
    ")\n",
    "def update_chart3(selected_col):\n",
    "    fig = px.scatter(df, x='City', y='Population')\n",
    "    return fig\n",
    "\n",
    "if __name__ == '__main__':\n",
    "    app.run_server(mode='inline')\n"
   ]
  },
  {
   "attachments": {},
   "cell_type": "markdown",
   "metadata": {},
   "source": [
    "# Q9: Search for \"Plotly Gallery\" and fetch for a graph and use it with our data.\n",
    "\n",
    "- Note: You need to put the resourse addres of fetched your grapth."
   ]
  },
  {
   "cell_type": "code",
   "execution_count": 86,
   "metadata": {},
   "outputs": [
    {
     "name": "stdout",
     "output_type": "stream",
     "text": [
      "Dash is running on http://127.0.0.1:8050/\n",
      "\n"
     ]
    },
    {
     "data": {
      "text/html": [
       "\n",
       "        <iframe\n",
       "            width=\"100%\"\n",
       "            height=\"650\"\n",
       "            src=\"http://127.0.0.1:8050/\"\n",
       "            frameborder=\"0\"\n",
       "            allowfullscreen\n",
       "            \n",
       "        ></iframe>\n",
       "        "
      ],
      "text/plain": [
       "<IPython.lib.display.IFrame at 0x15ff9f54150>"
      ]
     },
     "metadata": {},
     "output_type": "display_data"
    }
   ],
   "source": [
    "app = JupyterDash(__name__)\n",
    "\n",
    "# Dropdown options based on the columns\n",
    "dropdown_opt = [\n",
    "    {'label': 'GDP', 'value': 'GDP'},\n",
    "    {'label': 'Population', 'value': 'Population'},\n",
    "    {'label': 'City', 'value': 'City'}\n",
    "]\n",
    "\n",
    "# Define the layout of the app\n",
    "app.layout = html.Div([\n",
    "    html.H1(\"Titanic Passenger Data\"),\n",
    "    \n",
    "    html.Div([\n",
    "        html.Label(\"Select Column:\"),\n",
    "        dcc.Dropdown(\n",
    "            id='coldropdown',\n",
    "            options=dropdown_opt,\n",
    "            value=dropdown_opt[0]['value']\n",
    "        )\n",
    "    ], style={'margin-bottom': '20px'}),\n",
    "    \n",
    "    html.Div([\n",
    "        dcc.Graph(id='chart1', className='chart'),\n",
    "        dcc.Graph(id='chart2', className='chart'),\n",
    "        dcc.Graph(id='chart3', className='chart')\n",
    "    ], style={'display': 'flex', 'flex-wrap': 'wrap'})\n",
    "])\n",
    "\n",
    "# Define the callback functions to update the charts\n",
    "@app.callback(\n",
    "    dash.dependencies.Output('chart1', 'figure'),\n",
    "    [dash.dependencies.Input('coldropdown', 'value')]\n",
    ")\n",
    "def update_chart1(selected_col):\n",
    "    fig = px.histogram(df, x=selected_col)\n",
    "    return fig\n",
    "\n",
    "@app.callback(\n",
    "    dash.dependencies.Output('chart2', 'figure'),\n",
    "    [dash.dependencies.Input('coldropdown', 'value')]\n",
    ")\n",
    "def update_chart2(selected_col):\n",
    "    fig = px.box(df, x=selected_col, y='City')\n",
    "    return fig\n",
    "\n",
    "@app.callback(\n",
    "    dash.dependencies.Output('chart3', 'figure'),\n",
    "    [dash.dependencies.Input('coldropdown', 'value')]\n",
    ")\n",
    "def update_chart3(selected_col):\n",
    "    fig = px.scatter(df, x='City', y='GDP')\n",
    "    return fig\n",
    "\n",
    "if __name__ == '__main__':\n",
    "    app.run_server(mode='inline')\n"
   ]
  },
  {
   "attachments": {},
   "cell_type": "markdown",
   "metadata": {},
   "source": [
    "# Challenge 1.1: Create Plotly dash with two charts depends on different columns of the data\n",
    "- First Chart : Pie\n",
    "- Secound Chart: is by your Choice ( Not Pie )"
   ]
  },
  {
   "cell_type": "code",
   "execution_count": null,
   "metadata": {},
   "outputs": [],
   "source": []
  },
  {
   "attachments": {},
   "cell_type": "markdown",
   "metadata": {},
   "source": [
    "# Challenge 1.2: Make Hovering over a slice of the pie changes the data for the second chart depending on what the slice is."
   ]
  },
  {
   "cell_type": "code",
   "execution_count": null,
   "metadata": {},
   "outputs": [],
   "source": []
  }
 ],
 "metadata": {
  "kernelspec": {
   "display_name": "Python 3",
   "language": "python",
   "name": "python3"
  },
  "language_info": {
   "codemirror_mode": {
    "name": "ipython",
    "version": 3
   },
   "file_extension": ".py",
   "mimetype": "text/x-python",
   "name": "python",
   "nbconvert_exporter": "python",
   "pygments_lexer": "ipython3",
   "version": "3.11.1"
  },
  "orig_nbformat": 4
 },
 "nbformat": 4,
 "nbformat_minor": 2
}
