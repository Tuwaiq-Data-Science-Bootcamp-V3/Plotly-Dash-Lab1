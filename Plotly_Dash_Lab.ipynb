{
 "cells": [
  {
   "cell_type": "code",
   "execution_count": null,
   "metadata": {},
   "outputs": [],
   "source": [
    "# pip install jupyter-dash"
   ]
  },
  {
   "cell_type": "markdown",
   "metadata": {},
   "source": [
    "# Q0: import dash standard libraries"
   ]
  },
  {
   "cell_type": "code",
   "execution_count": 1,
   "metadata": {},
   "outputs": [],
   "source": [
    "from dash import Dash, dcc, html, Input, Output\n",
    "from jupyter_dash import JupyterDash\n",
    "import warnings\n",
    "warnings.filterwarnings(\"ignore\")"
   ]
  },
  {
   "cell_type": "markdown",
   "metadata": {},
   "source": [
    "# Q1: Make dash that prints \"Data Science\""
   ]
  },
  {
   "cell_type": "code",
   "execution_count": 34,
   "metadata": {},
   "outputs": [
    {
     "name": "stdout",
     "output_type": "stream",
     "text": [
      "Dash is running on http://127.0.0.1:8050/\n",
      "\n"
     ]
    },
    {
     "data": {
      "text/html": [
       "\n",
       "        <iframe\n",
       "            width=\"100%\"\n",
       "            height=\"650\"\n",
       "            src=\"http://127.0.0.1:8050/\"\n",
       "            frameborder=\"0\"\n",
       "            allowfullscreen\n",
       "            \n",
       "        ></iframe>\n",
       "        "
      ],
      "text/plain": [
       "<IPython.lib.display.IFrame at 0x278ef2804f0>"
      ]
     },
     "metadata": {},
     "output_type": "display_data"
    }
   ],
   "source": [
    "app = JupyterDash(__name__)\n",
    "\n",
    "app.layout= html.Div([\n",
    "    html.H1('Dara Science')\n",
    "])\n",
    "\n",
    "if __name__ == '__main__':\n",
    "    app.run_server(mode='inline')"
   ]
  },
  {
   "cell_type": "markdown",
   "metadata": {},
   "source": [
    "# Q2: Make dash that takes name input and outpt \"Welcome to Data Science dashboard {name}\""
   ]
  },
  {
   "cell_type": "code",
   "execution_count": 35,
   "metadata": {
    "scrolled": true
   },
   "outputs": [
    {
     "name": "stdout",
     "output_type": "stream",
     "text": [
      "Dash is running on http://127.0.0.1:8050/\n",
      "\n"
     ]
    },
    {
     "data": {
      "text/html": [
       "\n",
       "        <iframe\n",
       "            width=\"100%\"\n",
       "            height=\"650\"\n",
       "            src=\"http://127.0.0.1:8050/\"\n",
       "            frameborder=\"0\"\n",
       "            allowfullscreen\n",
       "            \n",
       "        ></iframe>\n",
       "        "
      ],
      "text/plain": [
       "<IPython.lib.display.IFrame at 0x278ef3154e0>"
      ]
     },
     "metadata": {},
     "output_type": "display_data"
    }
   ],
   "source": [
    "app = JupyterDash(__name__)\n",
    "\n",
    "app.layout = html.Div([\n",
    "    html.Div([\n",
    "        'Input:',\n",
    "        dcc.Input(id='my-input', value=' ', type='text')\n",
    "    ]),\n",
    "    html.Br(),\n",
    "    html.Div(id='my-output'),\n",
    "])\n",
    "\n",
    "@app.callback(\n",
    "    Output(component_id='my-output', component_property='children'),\n",
    "    Input(component_id='my-input', component_property='value')\n",
    ")\n",
    "def update_output_div(input_value):\n",
    "    return f'Welcome to Data Science dashboard {input_value}'\n",
    "\n",
    "if __name__ == '__main__':\n",
    "    app.run_server(mode='inline')\n"
   ]
  },
  {
   "cell_type": "markdown",
   "metadata": {},
   "source": [
    "# Q3: Make Plotly-Dash that takes two inputs (numbers) and output 3 numbers x, y , z= x+y\n",
    "- hint: use html.Div, dcc.Input(type='number')"
   ]
  },
  {
   "cell_type": "code",
   "execution_count": 36,
   "metadata": {
    "scrolled": true
   },
   "outputs": [
    {
     "name": "stdout",
     "output_type": "stream",
     "text": [
      "Dash is running on http://127.0.0.1:8050/\n",
      "\n"
     ]
    },
    {
     "data": {
      "text/html": [
       "\n",
       "        <iframe\n",
       "            width=\"100%\"\n",
       "            height=\"650\"\n",
       "            src=\"http://127.0.0.1:8050/\"\n",
       "            frameborder=\"0\"\n",
       "            allowfullscreen\n",
       "            \n",
       "        ></iframe>\n",
       "        "
      ],
      "text/plain": [
       "<IPython.lib.display.IFrame at 0x278ef75cc10>"
      ]
     },
     "metadata": {},
     "output_type": "display_data"
    },
    {
     "name": "stdout",
     "output_type": "stream",
     "text": [
      "\u001b[1;31m---------------------------------------------------------------------------\u001b[0m\n",
      "\u001b[1;31mTypeError\u001b[0m                                 Traceback (most recent call last)\n",
      "\u001b[1;31mTypeError\u001b[0m: unsupported operand type(s) for +: 'int' and 'str'\n",
      "\n",
      "\u001b[1;31m---------------------------------------------------------------------------\u001b[0m\n",
      "\u001b[1;31mTypeError\u001b[0m                                 Traceback (most recent call last)\n",
      "\u001b[1;31mTypeError\u001b[0m: unsupported operand type(s) for +: 'int' and 'str'\n",
      "\n",
      "\u001b[1;31m---------------------------------------------------------------------------\u001b[0m\n",
      "\u001b[1;31mTypeError\u001b[0m                                 Traceback (most recent call last)\n",
      "\u001b[1;31mTypeError\u001b[0m: unsupported operand type(s) for +: 'int' and 'str'\n",
      "\n"
     ]
    }
   ],
   "source": [
    "from dash import Dash, dcc, html, Input, Output\n",
    "from jupyter_dash import JupyterDash\n",
    "import warnings\n",
    "warnings.filterwarnings(\"ignore\")\n",
    "\n",
    "\n",
    "\n",
    "app = JupyterDash(__name__)\n",
    "\n",
    "app.layout = html.Div([\n",
    "    html.Div([\n",
    "        \"Input: \",\n",
    "        dcc.Input(id='x', value=' ', type='number')\n",
    "    ]),\n",
    "    html.Div([\n",
    "        \"Input: \",\n",
    "        dcc.Input(id='y', value=' ', type='number')\n",
    "    ]),\n",
    "    html.Br(),\n",
    "    html.Div(id='my-output'),\n",
    "])\n",
    "\n",
    "@app.callback(\n",
    "    Output(component_id='my-output', component_property='children'),\n",
    "    Input(component_id='x', component_property='value'),\n",
    "    Input(component_id='y', component_property='value')\n",
    ")\n",
    "def update_output_div(input_value, input_value2):\n",
    "    return f'Output: {input_value + input_value2}'\n",
    "\n",
    "\n",
    "if __name__ == '__main__':\n",
    "    app.run_server(mode='inline')\n"
   ]
  },
  {
   "cell_type": "markdown",
   "metadata": {},
   "source": [
    "# Q4.1: Make JubyterDash with Rangeslider from 1-15 with 6 option"
   ]
  },
  {
   "cell_type": "code",
   "execution_count": 37,
   "metadata": {},
   "outputs": [
    {
     "name": "stdout",
     "output_type": "stream",
     "text": [
      "Dash is running on http://127.0.0.1:8050/\n",
      "\n"
     ]
    },
    {
     "data": {
      "text/html": [
       "\n",
       "        <iframe\n",
       "            width=\"100%\"\n",
       "            height=\"650\"\n",
       "            src=\"http://127.0.0.1:8050/\"\n",
       "            frameborder=\"0\"\n",
       "            allowfullscreen\n",
       "            \n",
       "        ></iframe>\n",
       "        "
      ],
      "text/plain": [
       "<IPython.lib.display.IFrame at 0x278ef7d9c60>"
      ]
     },
     "metadata": {},
     "output_type": "display_data"
    }
   ],
   "source": [
    "from dash import Dash, dcc, html, Input, Output\n",
    "from jupyter_dash import JupyterDash\n",
    "import warnings\n",
    "warnings.filterwarnings(\"ignore\")\n",
    "\n",
    "app2 = JupyterDash(__name__) \n",
    "\n",
    "app2.layout = html.Div([\n",
    "    html.P(\"Choose from RangeSlide\"),\n",
    "    dcc.RangeSlider(1, 15, step=3)\n",
    "])\n",
    "    \n",
    "# if __name__ == '__main__':\n",
    "app2.run_server(debug=True, use_reloader=False,mode='inline') "
   ]
  },
  {
   "cell_type": "markdown",
   "metadata": {},
   "source": [
    "# Q4.2: add to the previous dash: Label, set default value on rangeslider as 7-10"
   ]
  },
  {
   "cell_type": "code",
   "execution_count": 38,
   "metadata": {},
   "outputs": [
    {
     "name": "stdout",
     "output_type": "stream",
     "text": [
      "Dash is running on http://127.0.0.1:8050/\n",
      "\n"
     ]
    },
    {
     "data": {
      "text/html": [
       "\n",
       "        <iframe\n",
       "            width=\"100%\"\n",
       "            height=\"650\"\n",
       "            src=\"http://127.0.0.1:8050/\"\n",
       "            frameborder=\"0\"\n",
       "            allowfullscreen\n",
       "            \n",
       "        ></iframe>\n",
       "        "
      ],
      "text/plain": [
       "<IPython.lib.display.IFrame at 0x278ef763a90>"
      ]
     },
     "metadata": {},
     "output_type": "display_data"
    }
   ],
   "source": [
    "from dash import Dash, dcc, html, Input, Output\n",
    "from jupyter_dash import JupyterDash\n",
    "import warnings\n",
    "warnings.filterwarnings(\"ignore\")\n",
    "\n",
    "app3 = JupyterDash(__name__) \n",
    "\n",
    "app3.layout = html.Div([\n",
    "    html.P(\"Choose from RangeSlide\"),\n",
    "    dcc.RangeSlider(1, 15, step=3, value=[7,10])\n",
    "])\n",
    "    \n",
    "# if __name__ == '__main__':\n",
    "app3.run_server(debug=True, use_reloader=False,mode='inline') "
   ]
  },
  {
   "cell_type": "markdown",
   "metadata": {},
   "source": [
    "# Q5: Make 3 different Dcc types (Dropdown - Checkbox...) in one dash"
   ]
  },
  {
   "cell_type": "code",
   "execution_count": 39,
   "metadata": {},
   "outputs": [
    {
     "name": "stdout",
     "output_type": "stream",
     "text": [
      "Dash is running on http://127.0.0.1:8050/\n",
      "\n"
     ]
    },
    {
     "data": {
      "text/html": [
       "\n",
       "        <iframe\n",
       "            width=\"100%\"\n",
       "            height=\"650\"\n",
       "            src=\"http://127.0.0.1:8050/\"\n",
       "            frameborder=\"0\"\n",
       "            allowfullscreen\n",
       "            \n",
       "        ></iframe>\n",
       "        "
      ],
      "text/plain": [
       "<IPython.lib.display.IFrame at 0x278ef7d9600>"
      ]
     },
     "metadata": {},
     "output_type": "display_data"
    }
   ],
   "source": [
    "from dash import Dash, dcc, html, Input, Output\n",
    "from jupyter_dash import JupyterDash\n",
    "import warnings\n",
    "warnings.filterwarnings(\"ignore\")\n",
    "\n",
    "app = JupyterDash(__name__) \n",
    "\n",
    "app.layout = html.Div(children=[\n",
    "    html.Label('Dropdown'),\n",
    "    dcc.Dropdown(\n",
    "        options=[\n",
    "            {'label': 'Choose 1', 'value': 'Choose1'},\n",
    "            {'label': 'Choose 2', 'value': 'Choose2'},\n",
    "            {'label': 'Choose 3', 'value': 'Choose3'}\n",
    "        ],\n",
    "        value=' '\n",
    "    ),\n",
    "\n",
    "    html.Label('Checkbox'),\n",
    "    dcc.Checklist(\n",
    "        options=[\n",
    "            {'label': 'Choose 1', 'value': 'Choose1'},\n",
    "            {'label': 'Choose 2', 'value': 'Choose2'},\n",
    "            {'label': 'Choose 3', 'value': 'Choose3'}\n",
    "        ],\n",
    "        value=[' ']\n",
    "    ),\n",
    "])\n",
    "\n",
    "if __name__ == '__main__':\n",
    "    app.run_server(debug=True, use_reloader=False,mode='inline')"
   ]
  },
  {
   "cell_type": "markdown",
   "metadata": {},
   "source": [
    "# Q6: Make Plotly chart, then add it to a plotly_dash"
   ]
  },
  {
   "cell_type": "code",
   "execution_count": 51,
   "metadata": {
    "scrolled": true
   },
   "outputs": [
    {
     "name": "stdout",
     "output_type": "stream",
     "text": [
      "Dash is running on http://127.0.0.1:8050/\n",
      "\n"
     ]
    },
    {
     "data": {
      "text/html": [
       "\n",
       "        <iframe\n",
       "            width=\"100%\"\n",
       "            height=\"650\"\n",
       "            src=\"http://127.0.0.1:8050/\"\n",
       "            frameborder=\"0\"\n",
       "            allowfullscreen\n",
       "            \n",
       "        ></iframe>\n",
       "        "
      ],
      "text/plain": [
       "<IPython.lib.display.IFrame at 0x278f39b3100>"
      ]
     },
     "metadata": {},
     "output_type": "display_data"
    }
   ],
   "source": [
    "from dash import Dash, dcc, html, Input, Output\n",
    "from jupyter_dash import JupyterDash\n",
    "import warnings\n",
    "warnings.filterwarnings(\"ignore\")\n",
    "import plotly.express as px\n",
    "import numpy as np\n",
    "import plotly.graph_objects as go\n",
    "\n",
    "\n",
    "df = np.random.normal(3, 2, size=5) \n",
    "fig = px.histogram(df)\n",
    "\n",
    "app = JupyterDash(__name__) \n",
    "\n",
    "app.layout = html.Div(\n",
    "    dcc.Graph(\n",
    "        figure=fig\n",
    "    ))\n",
    "\n",
    "if __name__ == '__main__':\n",
    "    app.run_server(debug=True, use_reloader=False,mode='inline')\n"
   ]
  },
  {
   "cell_type": "markdown",
   "metadata": {},
   "source": [
    "# Q7: From our data make plotly-dash with suitble chart, and Dropdown.\n",
    "\n",
    "- Dropdown should contain at least 3 options, each one represents different column.\n",
    "- Add label to dropdown.\n",
    "- The chart data should change depending on the selected dropdown option."
   ]
  },
  {
   "cell_type": "code",
   "execution_count": 52,
   "metadata": {},
   "outputs": [
    {
     "name": "stdout",
     "output_type": "stream",
     "text": [
      "Dash is running on http://127.0.0.1:8050/\n",
      "\n"
     ]
    },
    {
     "data": {
      "text/html": [
       "\n",
       "        <iframe\n",
       "            width=\"100%\"\n",
       "            height=\"650\"\n",
       "            src=\"http://127.0.0.1:8050/\"\n",
       "            frameborder=\"0\"\n",
       "            allowfullscreen\n",
       "            \n",
       "        ></iframe>\n",
       "        "
      ],
      "text/plain": [
       "<IPython.lib.display.IFrame at 0x278f3a62680>"
      ]
     },
     "metadata": {},
     "output_type": "display_data"
    }
   ],
   "source": [
    "import pandas as pd\n",
    "import seaborn as sns\n",
    "import matplotlib.pyplot as plt\n",
    "import plotly.express as px\n",
    "from jupyter_dash import JupyterDash\n",
    "import warnings\n",
    "warnings.filterwarnings(\"ignore\")\n",
    "df = pd.read_csv(\"titanic passenger list.csv\")\n",
    "app = JupyterDash(__name__)\n",
    "dropdown_options = [{'label': 'embarked', 'value': 'embarked'},\n",
    "                    {'label': 'Sex', 'value': 'sex'},\n",
    "                    {'label': 'Age', 'value': 'age'}]\n",
    "# Create the layout of the app\n",
    "app.layout = html.Div([\n",
    "    dcc.Dropdown(id='dropdown', options=dropdown_options,value=\"age\"),\n",
    "    \n",
    "          dcc.Graph(id=\"graph\")])\n",
    "\n",
    "\n",
    "@app.callback(\n",
    "    Output('graph', 'figure'),\n",
    "    Input('dropdown', 'value'))\n",
    "\n",
    "def update_chart(column):\n",
    "    fig = px.histogram(df, x=column)\n",
    "    return fig\n",
    "\n",
    "\n",
    "if __name__ == '__main__':\n",
    "    app.run_server(mode='inline')"
   ]
  },
  {
   "cell_type": "markdown",
   "metadata": {},
   "source": [
    "# Q8: add 2 more charts to the prevoius Ploty-Dash"
   ]
  },
  {
   "cell_type": "code",
   "execution_count": 55,
   "metadata": {},
   "outputs": [
    {
     "name": "stdout",
     "output_type": "stream",
     "text": [
      "Dash is running on http://127.0.0.1:8050/\n",
      "\n"
     ]
    },
    {
     "data": {
      "text/html": [
       "\n",
       "        <iframe\n",
       "            width=\"100%\"\n",
       "            height=\"650\"\n",
       "            src=\"http://127.0.0.1:8050/\"\n",
       "            frameborder=\"0\"\n",
       "            allowfullscreen\n",
       "            \n",
       "        ></iframe>\n",
       "        "
      ],
      "text/plain": [
       "<IPython.lib.display.IFrame at 0x278f3dcc910>"
      ]
     },
     "metadata": {},
     "output_type": "display_data"
    },
    {
     "data": {
      "image/png": "[encoded data removed]",
      "text/plain": [
       "<Figure size 640x480 with 1 Axes>"
      ]
     },
     "metadata": {},
     "output_type": "display_data"
    },
    {
     "name": "stdout",
     "output_type": "stream",
     "text": [
      "\u001b[1;31m---------------------------------------------------------------------------\u001b[0m\n",
      "\u001b[1;31mTypeError\u001b[0m                                 Traceback (most recent call last)\n",
      "File \u001b[1;32m~\\anaconda3\\lib\\site-packages\\dash\\_callback.py:491\u001b[0m, in \u001b[0;36mregister_callback.<locals>.wrap_func.<locals>.add_context\u001b[1;34m(*args=('sex',), **kwargs={})\u001b[0m\n",
      "\u001b[0;32m    490\u001b[0m \u001b[38;5;28;01mtry\u001b[39;00m:\n",
      "\u001b[1;32m--> 491\u001b[0m     jsonResponse \u001b[38;5;241m=\u001b[39m \u001b[43mto_json\u001b[49m\u001b[43m(\u001b[49m\u001b[43mresponse\u001b[49m\u001b[43m)\u001b[49m\n",
      "        response \u001b[1;34m= {'multi': True, 'response': defaultdict(<class 'dict'>, {'graph1': {'figure': <seaborn.axisgrid.FacetGrid object at 0x00000278EEE44490>}, 'graph2': {'figure': <Axes: xlabel='sex', ylabel='survived'>}})}\u001b[0m\n",
      "\u001b[0;32m    492\u001b[0m \u001b[38;5;28;01mexcept\u001b[39;00m \u001b[38;5;167;01mTypeError\u001b[39;00m:\n",
      "\n",
      "File \u001b[1;32m~\\anaconda3\\lib\\site-packages\\dash\\_utils.py:23\u001b[0m, in \u001b[0;36mto_json\u001b[1;34m(\n",
      "    value={'multi': True, 'response': defaultdict(<class 'dict'>, {'graph1': {'figure'...gure': <Axes: xlabel='sex', ylabel='survived'>}})}\n",
      ")\u001b[0m\n",
      "\u001b[0;32m     21\u001b[0m \u001b[38;5;28;01mfrom\u001b[39;00m \u001b[38;5;21;01mplotly\u001b[39;00m\u001b[38;5;21;01m.\u001b[39;00m\u001b[38;5;21;01mio\u001b[39;00m\u001b[38;5;21;01m.\u001b[39;00m\u001b[38;5;21;01mjson\u001b[39;00m \u001b[38;5;28;01mimport\u001b[39;00m to_json_plotly\n",
      "\u001b[1;32m---> 23\u001b[0m \u001b[38;5;28;01mreturn\u001b[39;00m \u001b[43mto_json_plotly\u001b[49m\u001b[43m(\u001b[49m\u001b[43mvalue\u001b[49m\u001b[43m)\u001b[49m\n",
      "        value \u001b[1;34m= {'multi': True, 'response': defaultdict(<class 'dict'>, {'graph1': {'figure': <seaborn.axisgrid.FacetGrid object at 0x00000278EEE44490>}, 'graph2': {'figure': <Axes: xlabel='sex', ylabel='survived'>}})}\u001b[0m\n",
      "\n",
      "File \u001b[1;32m~\\anaconda3\\lib\\site-packages\\plotly\\io\\_json.py:123\u001b[0m, in \u001b[0;36mto_json_plotly\u001b[1;34m(\n",
      "    plotly_object={'multi': True, 'response': defaultdict(<class 'dict'>, {'graph1': {'figure'...gure': <Axes: xlabel='sex', ylabel='survived'>}})},\n",
      "    pretty=False,\n",
      "    engine='json'\n",
      ")\u001b[0m\n",
      "\u001b[0;32m    121\u001b[0m     \u001b[38;5;28;01mfrom\u001b[39;00m \u001b[38;5;21;01m_plotly_utils\u001b[39;00m\u001b[38;5;21;01m.\u001b[39;00m\u001b[38;5;21;01mutils\u001b[39;00m \u001b[38;5;28;01mimport\u001b[39;00m PlotlyJSONEncoder\n",
      "\u001b[1;32m--> 123\u001b[0m     \u001b[38;5;28;01mreturn\u001b[39;00m json\u001b[38;5;241m.\u001b[39mdumps(plotly_object, \u001b[38;5;28mcls\u001b[39m\u001b[38;5;241m=\u001b[39mPlotlyJSONEncoder, \u001b[38;5;241m*\u001b[39m\u001b[38;5;241m*\u001b[39mopts)\n",
      "        opts \u001b[1;34m= {'separators': (',', ':')}\u001b[0m\u001b[1;34m\n",
      "        \u001b[0mplotly_object \u001b[1;34m= {'multi': True, 'response': defaultdict(<class 'dict'>, {'graph1': {'figure': <seaborn.axisgrid.FacetGrid object at 0x00000278EEE44490>}, 'graph2': {'figure': <Axes: xlabel='sex', ylabel='survived'>}})}\u001b[0m\n",
      "\u001b[0;32m    124\u001b[0m \u001b[38;5;28;01melif\u001b[39;00m engine \u001b[38;5;241m==\u001b[39m \u001b[38;5;124m\"\u001b[39m\u001b[38;5;124morjson\u001b[39m\u001b[38;5;124m\"\u001b[39m:\n",
      "\n",
      "File \u001b[1;32m~\\anaconda3\\lib\\json\\__init__.py:238\u001b[0m, in \u001b[0;36mdumps\u001b[1;34m(\n",
      "    obj={'multi': True, 'response': defaultdict(<class 'dict'>, {'graph1': {'figure'...gure': <Axes: xlabel='sex', ylabel='survived'>}})},\n",
      "    skipkeys=False,\n",
      "    ensure_ascii=True,\n",
      "    check_circular=True,\n",
      "    allow_nan=True,\n",
      "    cls=<class '_plotly_utils.utils.PlotlyJSONEncoder'>,\n",
      "    indent=None,\n",
      "    separators=(',', ':'),\n",
      "    default=None,\n",
      "    sort_keys=False,\n",
      "    **kw={}\n",
      ")\u001b[0m\n",
      "\u001b[0;32m    233\u001b[0m     \u001b[38;5;28mcls\u001b[39m \u001b[38;5;241m=\u001b[39m JSONEncoder\n",
      "\u001b[0;32m    234\u001b[0m \u001b[38;5;28;01mreturn\u001b[39;00m \u001b[38;5;28;43mcls\u001b[39;49m\u001b[43m(\u001b[49m\n",
      "\u001b[0;32m    235\u001b[0m \u001b[43m    \u001b[49m\u001b[43mskipkeys\u001b[49m\u001b[38;5;241;43m=\u001b[39;49m\u001b[43mskipkeys\u001b[49m\u001b[43m,\u001b[49m\u001b[43m \u001b[49m\u001b[43mensure_ascii\u001b[49m\u001b[38;5;241;43m=\u001b[39;49m\u001b[43mensure_ascii\u001b[49m\u001b[43m,\u001b[49m\n",
      "\u001b[0;32m    236\u001b[0m \u001b[43m    \u001b[49m\u001b[43mcheck_circular\u001b[49m\u001b[38;5;241;43m=\u001b[39;49m\u001b[43mcheck_circular\u001b[49m\u001b[43m,\u001b[49m\u001b[43m \u001b[49m\u001b[43mallow_nan\u001b[49m\u001b[38;5;241;43m=\u001b[39;49m\u001b[43mallow_nan\u001b[49m\u001b[43m,\u001b[49m\u001b[43m \u001b[49m\u001b[43mindent\u001b[49m\u001b[38;5;241;43m=\u001b[39;49m\u001b[43mindent\u001b[49m\u001b[43m,\u001b[49m\n",
      "\u001b[0;32m    237\u001b[0m \u001b[43m    \u001b[49m\u001b[43mseparators\u001b[49m\u001b[38;5;241;43m=\u001b[39;49m\u001b[43mseparators\u001b[49m\u001b[43m,\u001b[49m\u001b[43m \u001b[49m\u001b[43mdefault\u001b[49m\u001b[38;5;241;43m=\u001b[39;49m\u001b[43mdefault\u001b[49m\u001b[43m,\u001b[49m\u001b[43m \u001b[49m\u001b[43msort_keys\u001b[49m\u001b[38;5;241;43m=\u001b[39;49m\u001b[43msort_keys\u001b[49m\u001b[43m,\u001b[49m\n",
      "\u001b[1;32m--> 238\u001b[0m \u001b[43m    \u001b[49m\u001b[38;5;241;43m*\u001b[39;49m\u001b[38;5;241;43m*\u001b[39;49m\u001b[43mkw\u001b[49m\u001b[43m)\u001b[49m\u001b[38;5;241;43m.\u001b[39;49m\u001b[43mencode\u001b[49m\u001b[43m(\u001b[49m\u001b[43mobj\u001b[49m\u001b[43m)\u001b[49m\n",
      "        cls \u001b[1;34m= <class '_plotly_utils.utils.PlotlyJSONEncoder'>\u001b[0m\u001b[1;34m\n",
      "        \u001b[0mensure_ascii \u001b[1;34m= True\u001b[0m\u001b[1;34m\n",
      "        \u001b[0mskipkeys \u001b[1;34m= False\u001b[0m\u001b[1;34m\n",
      "        \u001b[0mcheck_circular \u001b[1;34m= True\u001b[0m\u001b[1;34m\n",
      "        \u001b[0mallow_nan \u001b[1;34m= True\u001b[0m\u001b[1;34m\n",
      "        \u001b[0mindent \u001b[1;34m= None\u001b[0m\u001b[1;34m\n",
      "        \u001b[0mseparators \u001b[1;34m= (',', ':')\u001b[0m\u001b[1;34m\n",
      "        \u001b[0mdefault \u001b[1;34m= None\u001b[0m\u001b[1;34m\n",
      "        \u001b[0msort_keys \u001b[1;34m= False\u001b[0m\u001b[1;34m\n",
      "        \u001b[0mobj \u001b[1;34m= {'multi': True, 'response': defaultdict(<class 'dict'>, {'graph1': {'figure': <seaborn.axisgrid.FacetGrid object at 0x00000278EEE44490>}, 'graph2': {'figure': <Axes: xlabel='sex', ylabel='survived'>}})}\u001b[0m\u001b[1;34m\n",
      "        \u001b[0mkw \u001b[1;34m= {}\u001b[0m\n",
      "\n",
      "File \u001b[1;32m~\\anaconda3\\lib\\site-packages\\_plotly_utils\\utils.py:59\u001b[0m, in \u001b[0;36mPlotlyJSONEncoder.encode\u001b[1;34m(\n",
      "    self=<_plotly_utils.utils.PlotlyJSONEncoder object>,\n",
      "    o={'multi': True, 'response': defaultdict(<class 'dict'>, {'graph1': {'figure'...gure': <Axes: xlabel='sex', ylabel='survived'>}})}\n",
      ")\u001b[0m\n",
      "\u001b[0;32m     58\u001b[0m \u001b[38;5;66;03m# this will raise errors in a normal-expected way\u001b[39;00m\n",
      "\u001b[1;32m---> 59\u001b[0m encoded_o \u001b[38;5;241m=\u001b[39m \u001b[38;5;28;43msuper\u001b[39;49m\u001b[43m(\u001b[49m\u001b[43mPlotlyJSONEncoder\u001b[49m\u001b[43m,\u001b[49m\u001b[43m \u001b[49m\u001b[38;5;28;43mself\u001b[39;49m\u001b[43m)\u001b[49m\u001b[38;5;241;43m.\u001b[39;49m\u001b[43mencode\u001b[49m\u001b[43m(\u001b[49m\u001b[43mo\u001b[49m\u001b[43m)\u001b[49m\n",
      "        o \u001b[1;34m= {'multi': True, 'response': defaultdict(<class 'dict'>, {'graph1': {'figure': <seaborn.axisgrid.FacetGrid object at 0x00000278EEE44490>}, 'graph2': {'figure': <Axes: xlabel='sex', ylabel='survived'>}})}\u001b[0m\u001b[1;34m\n",
      "        \u001b[0mself \u001b[1;34m= <_plotly_utils.utils.PlotlyJSONEncoder object at 0x00000278EF290B50>\u001b[0m\n",
      "\u001b[0;32m     60\u001b[0m \u001b[38;5;66;03m# Brute force guessing whether NaN or Infinity values are in the string\u001b[39;00m\n",
      "\u001b[0;32m     61\u001b[0m \u001b[38;5;66;03m# We catch false positive cases (e.g. strings such as titles, labels etc.)\u001b[39;00m\n",
      "\u001b[0;32m     62\u001b[0m \u001b[38;5;66;03m# but this is ok since the intention is to skip the decoding / reencoding\u001b[39;00m\n",
      "\u001b[0;32m     63\u001b[0m \u001b[38;5;66;03m# step when it's completely safe\u001b[39;00m\n",
      "\n",
      "File \u001b[1;32m~\\anaconda3\\lib\\json\\encoder.py:199\u001b[0m, in \u001b[0;36mJSONEncoder.encode\u001b[1;34m(\n",
      "    self=<_plotly_utils.utils.PlotlyJSONEncoder object>,\n",
      "    o={'multi': True, 'response': defaultdict(<class 'dict'>, {'graph1': {'figure'...gure': <Axes: xlabel='sex', ylabel='survived'>}})}\n",
      ")\u001b[0m\n",
      "\u001b[0;32m    196\u001b[0m \u001b[38;5;66;03m# This doesn't pass the iterator directly to ''.join() because the\u001b[39;00m\n",
      "\u001b[0;32m    197\u001b[0m \u001b[38;5;66;03m# exceptions aren't as detailed.  The list call should be roughly\u001b[39;00m\n",
      "\u001b[0;32m    198\u001b[0m \u001b[38;5;66;03m# equivalent to the PySequence_Fast that ''.join() would do.\u001b[39;00m\n",
      "\u001b[1;32m--> 199\u001b[0m chunks \u001b[38;5;241m=\u001b[39m \u001b[38;5;28;43mself\u001b[39;49m\u001b[38;5;241;43m.\u001b[39;49m\u001b[43miterencode\u001b[49m\u001b[43m(\u001b[49m\u001b[43mo\u001b[49m\u001b[43m,\u001b[49m\u001b[43m \u001b[49m\u001b[43m_one_shot\u001b[49m\u001b[38;5;241;43m=\u001b[39;49m\u001b[38;5;28;43;01mTrue\u001b[39;49;00m\u001b[43m)\u001b[49m\n",
      "        o \u001b[1;34m= {'multi': True, 'response': defaultdict(<class 'dict'>, {'graph1': {'figure': <seaborn.axisgrid.FacetGrid object at 0x00000278EEE44490>}, 'graph2': {'figure': <Axes: xlabel='sex', ylabel='survived'>}})}\u001b[0m\u001b[1;34m\n",
      "        \u001b[0mself \u001b[1;34m= <_plotly_utils.utils.PlotlyJSONEncoder object at 0x00000278EF290B50>\u001b[0m\n",
      "\u001b[0;32m    200\u001b[0m \u001b[38;5;28;01mif\u001b[39;00m \u001b[38;5;129;01mnot\u001b[39;00m \u001b[38;5;28misinstance\u001b[39m(chunks, (\u001b[38;5;28mlist\u001b[39m, \u001b[38;5;28mtuple\u001b[39m)):\n",
      "\n",
      "File \u001b[1;32m~\\anaconda3\\lib\\json\\encoder.py:257\u001b[0m, in \u001b[0;36mJSONEncoder.iterencode\u001b[1;34m(\n",
      "    self=<_plotly_utils.utils.PlotlyJSONEncoder object>,\n",
      "    o={'multi': True, 'response': defaultdict(<class 'dict'>, {'graph1': {'figure'...gure': <Axes: xlabel='sex', ylabel='survived'>}})},\n",
      "    _one_shot=True\n",
      ")\u001b[0m\n",
      "\u001b[0;32m    253\u001b[0m     _iterencode \u001b[38;5;241m=\u001b[39m _make_iterencode(\n",
      "\u001b[0;32m    254\u001b[0m         markers, \u001b[38;5;28mself\u001b[39m\u001b[38;5;241m.\u001b[39mdefault, _encoder, \u001b[38;5;28mself\u001b[39m\u001b[38;5;241m.\u001b[39mindent, floatstr,\n",
      "\u001b[0;32m    255\u001b[0m         \u001b[38;5;28mself\u001b[39m\u001b[38;5;241m.\u001b[39mkey_separator, \u001b[38;5;28mself\u001b[39m\u001b[38;5;241m.\u001b[39mitem_separator, \u001b[38;5;28mself\u001b[39m\u001b[38;5;241m.\u001b[39msort_keys,\n",
      "\u001b[0;32m    256\u001b[0m         \u001b[38;5;28mself\u001b[39m\u001b[38;5;241m.\u001b[39mskipkeys, _one_shot)\n",
      "\u001b[1;32m--> 257\u001b[0m \u001b[38;5;28;01mreturn\u001b[39;00m \u001b[43m_iterencode\u001b[49m\u001b[43m(\u001b[49m\u001b[43mo\u001b[49m\u001b[43m,\u001b[49m\u001b[43m \u001b[49m\u001b[38;5;241;43m0\u001b[39;49m\u001b[43m)\u001b[49m\n",
      "        _iterencode \u001b[1;34m= <_json.Encoder object at 0x00000278F0918280>\u001b[0m\u001b[1;34m\n",
      "        \u001b[0mo \u001b[1;34m= {'multi': True, 'response': defaultdict(<class 'dict'>, {'graph1': {'figure': <seaborn.axisgrid.FacetGrid object at 0x00000278EEE44490>}, 'graph2': {'figure': <Axes: xlabel='sex', ylabel='survived'>}})}\u001b[0m\n",
      "\n",
      "File \u001b[1;32m~\\anaconda3\\lib\\site-packages\\_plotly_utils\\utils.py:136\u001b[0m, in \u001b[0;36mPlotlyJSONEncoder.default\u001b[1;34m(\n",
      "    self=<_plotly_utils.utils.PlotlyJSONEncoder object>,\n",
      "    obj=<seaborn.axisgrid.FacetGrid object>\n",
      ")\u001b[0m\n",
      "\u001b[0;32m    135\u001b[0m         \u001b[38;5;28;01mpass\u001b[39;00m\n",
      "\u001b[1;32m--> 136\u001b[0m \u001b[38;5;28;01mreturn\u001b[39;00m \u001b[43m_json\u001b[49m\u001b[38;5;241;43m.\u001b[39;49m\u001b[43mJSONEncoder\u001b[49m\u001b[38;5;241;43m.\u001b[39;49m\u001b[43mdefault\u001b[49m\u001b[43m(\u001b[49m\u001b[38;5;28;43mself\u001b[39;49m\u001b[43m,\u001b[49m\u001b[43m \u001b[49m\u001b[43mobj\u001b[49m\u001b[43m)\u001b[49m\n",
      "        self \u001b[1;34m= <_plotly_utils.utils.PlotlyJSONEncoder object at 0x00000278EF290B50>\u001b[0m\u001b[1;34m\n",
      "        \u001b[0mobj \u001b[1;34m= <seaborn.axisgrid.FacetGrid object at 0x00000278EEE44490>\u001b[0m\u001b[1;34m\n",
      "        \u001b[0m_json \u001b[1;34m= <module 'json' from 'C:\\\\Users\\\\HANADI\\\\anaconda3\\\\lib\\\\json\\\\__init__.py'>\u001b[0m\n",
      "\n",
      "File \u001b[1;32m~\\anaconda3\\lib\\json\\encoder.py:179\u001b[0m, in \u001b[0;36mJSONEncoder.default\u001b[1;34m(\n",
      "    self=<_plotly_utils.utils.PlotlyJSONEncoder object>,\n",
      "    o=<seaborn.axisgrid.FacetGrid object>\n",
      ")\u001b[0m\n",
      "\u001b[0;32m    161\u001b[0m \u001b[38;5;250m\u001b[39m\u001b[38;5;124;03m\"\"\"Implement this method in a subclass such that it returns\u001b[39;00m\n",
      "\u001b[0;32m    162\u001b[0m \u001b[38;5;124;03ma serializable object for ``o``, or calls the base implementation\u001b[39;00m\n",
      "\u001b[0;32m    163\u001b[0m \u001b[38;5;124;03m(to raise a ``TypeError``).\u001b[39;00m\n",
      "\u001b[1;32m   (...)\u001b[0m\n",
      "\u001b[0;32m    177\u001b[0m \n",
      "\u001b[0;32m    178\u001b[0m \u001b[38;5;124;03m\"\"\"\u001b[39;00m\n",
      "\u001b[1;32m--> 179\u001b[0m \u001b[38;5;28;01mraise\u001b[39;00m \u001b[38;5;167;01mTypeError\u001b[39;00m(\u001b[38;5;124mf\u001b[39m\u001b[38;5;124m'\u001b[39m\u001b[38;5;124mObject of type \u001b[39m\u001b[38;5;132;01m{\u001b[39;00mo\u001b[38;5;241m.\u001b[39m\u001b[38;5;18m__class__\u001b[39m\u001b[38;5;241m.\u001b[39m\u001b[38;5;18m__name__\u001b[39m\u001b[38;5;132;01m}\u001b[39;00m\u001b[38;5;124m \u001b[39m\u001b[38;5;124m'\u001b[39m\n",
      "\u001b[0;32m    180\u001b[0m                 \u001b[38;5;124mf\u001b[39m\u001b[38;5;124m'\u001b[39m\u001b[38;5;124mis not JSON serializable\u001b[39m\u001b[38;5;124m'\u001b[39m)\n",
      "\n",
      "\u001b[1;31mTypeError\u001b[0m: Object of type FacetGrid is not JSON serializable\n",
      "\n",
      "During handling of the above exception, another exception occurred:\n",
      "\n",
      "\u001b[1;31mInvalidCallbackReturnValue\u001b[0m                Traceback (most recent call last)\n",
      "File \u001b[1;32m~\\anaconda3\\lib\\site-packages\\flask\\app.py:1484\u001b[0m, in \u001b[0;36mFlask.full_dispatch_request\u001b[1;34m(self=<Flask '__main__'>)\u001b[0m\n",
      "\u001b[0;32m   1482\u001b[0m     rv \u001b[38;5;241m=\u001b[39m \u001b[38;5;28mself\u001b[39m\u001b[38;5;241m.\u001b[39mpreprocess_request()\n",
      "\u001b[0;32m   1483\u001b[0m     \u001b[38;5;28;01mif\u001b[39;00m rv \u001b[38;5;129;01mis\u001b[39;00m \u001b[38;5;28;01mNone\u001b[39;00m:\n",
      "\u001b[1;32m-> 1484\u001b[0m         rv \u001b[38;5;241m=\u001b[39m \u001b[38;5;28;43mself\u001b[39;49m\u001b[38;5;241;43m.\u001b[39;49m\u001b[43mdispatch_request\u001b[49m\u001b[43m(\u001b[49m\u001b[43m)\u001b[49m\n",
      "        self \u001b[1;34m= <Flask '__main__'>\u001b[0m\u001b[1;34m\n",
      "        \u001b[0mrv \u001b[1;34m= None\u001b[0m\n",
      "\u001b[0;32m   1485\u001b[0m \u001b[38;5;28;01mexcept\u001b[39;00m \u001b[38;5;167;01mException\u001b[39;00m \u001b[38;5;28;01mas\u001b[39;00m e:\n",
      "\u001b[0;32m   1486\u001b[0m     rv \u001b[38;5;241m=\u001b[39m \u001b[38;5;28mself\u001b[39m\u001b[38;5;241m.\u001b[39mhandle_user_exception(e)\n",
      "\n",
      "File \u001b[1;32m~\\anaconda3\\lib\\site-packages\\flask\\app.py:1469\u001b[0m, in \u001b[0;36mFlask.dispatch_request\u001b[1;34m(self=<Flask '__main__'>)\u001b[0m\n",
      "\u001b[0;32m   1467\u001b[0m \u001b[38;5;66;03m# otherwise dispatch to the handler for that endpoint\u001b[39;00m\n",
      "\u001b[0;32m   1468\u001b[0m view_args: \u001b[38;5;28mdict\u001b[39m[\u001b[38;5;28mstr\u001b[39m, t\u001b[38;5;241m.\u001b[39mAny] \u001b[38;5;241m=\u001b[39m req\u001b[38;5;241m.\u001b[39mview_args  \u001b[38;5;66;03m# type: ignore[assignment]\u001b[39;00m\n",
      "\u001b[1;32m-> 1469\u001b[0m \u001b[38;5;28;01mreturn\u001b[39;00m \u001b[38;5;28mself\u001b[39m\u001b[38;5;241m.\u001b[39mensure_sync(\u001b[38;5;28mself\u001b[39m\u001b[38;5;241m.\u001b[39mview_functions[rule\u001b[38;5;241m.\u001b[39mendpoint])(\u001b[38;5;241m*\u001b[39m\u001b[38;5;241m*\u001b[39mview_args)\n",
      "        rule \u001b[1;34m= <Rule '/_dash-update-component' (POST, OPTIONS) -> /_dash-update-component>\u001b[0m\u001b[1;34m\n",
      "        \u001b[0mview_args \u001b[1;34m= {}\u001b[0m\u001b[1;34m\n",
      "        \u001b[0mself.view_functions[rule.endpoint] \u001b[1;34m= <bound method Dash.dispatch of <jupyter_dash.jupyter_app.JupyterDash object at 0x00000278F3E75C60>>\u001b[0m\u001b[1;34m\n",
      "        \u001b[0mself \u001b[1;34m= <Flask '__main__'>\u001b[0m\u001b[1;34m\n",
      "        \u001b[0mself.view_functions \u001b[1;34m= {'static': <function Flask.__init__.<locals>.<lambda> at 0x00000278F34C5000>, '_dash_assets.static': <bound method Scaffold.send_static_file of <Blueprint '_dash_assets'>>, '/_dash-component-suites/<string:package_name>/<path:fingerprinted_path>': <bound method Dash.serve_component_suites of <jupyter_dash.jupyter_app.JupyterDash object at 0x00000278F3E75C60>>, '/_dash-layout': <bound method Dash.serve_layout of <jupyter_dash.jupyter_app.JupyterDash object at 0x00000278F3E75C60>>, '/_dash-dependencies': <bound method Dash.dependencies of <jupyter_dash.jupyter_app.JupyterDash object at 0x00000278F3E75C60>>, '/_dash-update-component': <bound method Dash.dispatch of <jupyter_dash.jupyter_app.JupyterDash object at 0x00000278F3E75C60>>, '/_reload-hash': <bound method Dash.serve_reload_hash of <jupyter_dash.jupyter_app.JupyterDash object at 0x00000278F3E75C60>>, '/_favicon.ico': <function Dash._serve_default_favicon at 0x00000278DF9F08B0>, '/': <bound method Dash.index of <jupyter_dash.jupyter_app.JupyterDash object at 0x00000278F3E75C60>>, '/<path:path>': <bound method Dash.index of <jupyter_dash.jupyter_app.JupyterDash object at 0x00000278F3E75C60>>, 'alive': <function JupyterDash.__init__.<locals>.alive at 0x00000278F34C4C10>}\u001b[0m\u001b[1;34m\n",
      "        \u001b[0mrule.endpoint \u001b[1;34m= '/_dash-update-component'\u001b[0m\n",
      "\n",
      "File \u001b[1;32m~\\anaconda3\\lib\\site-packages\\dash\\dash.py:1249\u001b[0m, in \u001b[0;36mDash.dispatch\u001b[1;34m(\n",
      "    self=<jupyter_dash.jupyter_app.JupyterDash object>\n",
      ")\u001b[0m\n",
      "\u001b[0;32m   1246\u001b[0m ctx \u001b[38;5;241m=\u001b[39m copy_context()\n",
      "\u001b[0;32m   1247\u001b[0m \u001b[38;5;66;03m# noinspection PyArgumentList\u001b[39;00m\n",
      "\u001b[0;32m   1248\u001b[0m response\u001b[38;5;241m.\u001b[39mset_data(\n",
      "\u001b[1;32m-> 1249\u001b[0m     \u001b[43mctx\u001b[49m\u001b[38;5;241;43m.\u001b[39;49m\u001b[43mrun\u001b[49m\u001b[43m(\u001b[49m\n",
      "        response \u001b[1;34m= <Response 0 bytes [200 OK]>\u001b[0m\u001b[1;34m\n",
      "        \u001b[0mctx \u001b[1;34m= <_contextvars.Context object at 0x00000278F4455F40>\u001b[0m\u001b[1;34m\n",
      "        \u001b[0mfunc \u001b[1;34m= <function update_chart at 0x00000278F3F23400>\u001b[0m\u001b[1;34m\n",
      "        \u001b[0margs \u001b[1;34m= ['sex']\u001b[0m\u001b[1;34m\n",
      "        \u001b[0moutputs_list \u001b[1;34m= [{'id': 'graph1', 'property': 'figure'}, {'id': 'graph2', 'property': 'figure'}]\u001b[0m\u001b[1;34m\n",
      "        \u001b[0mself._background_manager \u001b[1;34m= None\u001b[0m\u001b[1;34m\n",
      "        \u001b[0mself \u001b[1;34m= <jupyter_dash.jupyter_app.JupyterDash object at 0x00000278F3E75C60>\u001b[0m\u001b[1;34m\n",
      "        \u001b[0mg \u001b[1;34m= {'inputs_list': [{'id': 'dropdown', 'property': 'value', 'value': 'sex'}], 'states_list': [], 'outputs_list': [{'id': 'graph1', 'property': 'figure'}, {'id': 'graph2', 'property': 'figure'}], 'input_values': {'dropdown.value': 'sex'}, 'state_values': {}, 'background_callback_manager': None, 'triggered_inputs': [], 'dash_response': <Response 0 bytes [200 OK]>, 'ignore_register_page': None, 'args_grouping': {'id': 'dropdown', 'property': 'value', 'value': 'sex', 'str_id': 'dropdown', 'triggered': False}, 'using_args_grouping': False, 'outputs_grouping': [{'id': 'graph1', 'property': 'figure'}, {'id': 'graph2', 'property': 'figure'}], 'using_outputs_grouping': False}\u001b[0m\n",
      "\u001b[0;32m   1250\u001b[0m \u001b[43m        \u001b[49m\u001b[43mfunctools\u001b[49m\u001b[38;5;241;43m.\u001b[39;49m\u001b[43mpartial\u001b[49m\u001b[43m(\u001b[49m\n",
      "\u001b[0;32m   1251\u001b[0m \u001b[43m            \u001b[49m\u001b[43mfunc\u001b[49m\u001b[43m,\u001b[49m\n",
      "\u001b[0;32m   1252\u001b[0m \u001b[43m            \u001b[49m\u001b[38;5;241;43m*\u001b[39;49m\u001b[43margs\u001b[49m\u001b[43m,\u001b[49m\n",
      "\u001b[0;32m   1253\u001b[0m \u001b[43m            \u001b[49m\u001b[43moutputs_list\u001b[49m\u001b[38;5;241;43m=\u001b[39;49m\u001b[43moutputs_list\u001b[49m\u001b[43m,\u001b[49m\n",
      "\u001b[0;32m   1254\u001b[0m \u001b[43m            \u001b[49m\u001b[43mlong_callback_manager\u001b[49m\u001b[38;5;241;43m=\u001b[39;49m\u001b[38;5;28;43mself\u001b[39;49m\u001b[38;5;241;43m.\u001b[39;49m\u001b[43m_background_manager\u001b[49m\u001b[43m,\u001b[49m\n",
      "\u001b[0;32m   1255\u001b[0m \u001b[43m            \u001b[49m\u001b[43mcallback_context\u001b[49m\u001b[38;5;241;43m=\u001b[39;49m\u001b[43mg\u001b[49m\u001b[43m,\u001b[49m\n",
      "\u001b[0;32m   1256\u001b[0m \u001b[43m        \u001b[49m\u001b[43m)\u001b[49m\n",
      "\u001b[0;32m   1257\u001b[0m \u001b[43m    \u001b[49m\u001b[43m)\u001b[49m\n",
      "\u001b[0;32m   1258\u001b[0m )\n",
      "\u001b[0;32m   1259\u001b[0m \u001b[38;5;28;01mreturn\u001b[39;00m response\n",
      "\n",
      "File \u001b[1;32m~\\anaconda3\\lib\\site-packages\\dash\\_callback.py:493\u001b[0m, in \u001b[0;36mregister_callback.<locals>.wrap_func.<locals>.add_context\u001b[1;34m(*args=('sex',), **kwargs={})\u001b[0m\n",
      "\u001b[0;32m    491\u001b[0m     jsonResponse \u001b[38;5;241m=\u001b[39m to_json(response)\n",
      "\u001b[0;32m    492\u001b[0m \u001b[38;5;28;01mexcept\u001b[39;00m \u001b[38;5;167;01mTypeError\u001b[39;00m:\n",
      "\u001b[1;32m--> 493\u001b[0m     \u001b[43m_validate\u001b[49m\u001b[38;5;241;43m.\u001b[39;49m\u001b[43mfail_callback_output\u001b[49m\u001b[43m(\u001b[49m\u001b[43moutput_value\u001b[49m\u001b[43m,\u001b[49m\u001b[43m \u001b[49m\u001b[43moutput\u001b[49m\u001b[43m)\u001b[49m\n",
      "        output_value \u001b[1;34m= [<seaborn.axisgrid.FacetGrid object at 0x00000278EEE44490>, <Axes: xlabel='sex', ylabel='survived'>]\u001b[0m\u001b[1;34m\n",
      "        \u001b[0m_validate \u001b[1;34m= <module 'dash._validate' from 'C:\\\\Users\\\\HANADI\\\\anaconda3\\\\lib\\\\site-packages\\\\dash\\\\_validate.py'>\u001b[0m\u001b[1;34m\n",
      "        \u001b[0moutput \u001b[1;34m= [<Output `graph1.figure`>, <Output `graph2.figure`>]\u001b[0m\n",
      "\u001b[0;32m    495\u001b[0m \u001b[38;5;28;01mreturn\u001b[39;00m jsonResponse\n",
      "\n",
      "File \u001b[1;32m~\\anaconda3\\lib\\site-packages\\dash\\_validate.py:334\u001b[0m, in \u001b[0;36mfail_callback_output\u001b[1;34m(\n",
      "    output_value=[<seaborn.axisgrid.FacetGrid object>, <Axes: xlabel='sex', ylabel='survived'>],\n",
      "    output=[<Output `graph1.figure`>, <Output `graph2.figure`>]\n",
      ")\u001b[0m\n",
      "\u001b[0;32m    332\u001b[0m \u001b[38;5;28;01mif\u001b[39;00m \u001b[38;5;28misinstance\u001b[39m(output_value, \u001b[38;5;28mlist\u001b[39m):\n",
      "\u001b[0;32m    333\u001b[0m     \u001b[38;5;28;01mfor\u001b[39;00m i, val \u001b[38;5;129;01min\u001b[39;00m \u001b[38;5;28menumerate\u001b[39m(output_value):\n",
      "\u001b[1;32m--> 334\u001b[0m         \u001b[43m_validate_value\u001b[49m\u001b[43m(\u001b[49m\u001b[43mval\u001b[49m\u001b[43m,\u001b[49m\u001b[43m \u001b[49m\u001b[43mindex\u001b[49m\u001b[38;5;241;43m=\u001b[39;49m\u001b[43mi\u001b[49m\u001b[43m)\u001b[49m\n",
      "        val \u001b[1;34m= <seaborn.axisgrid.FacetGrid object at 0x00000278EEE44490>\u001b[0m\u001b[1;34m\n",
      "        \u001b[0mi \u001b[1;34m= 0\u001b[0m\n",
      "\u001b[0;32m    335\u001b[0m \u001b[38;5;28;01melse\u001b[39;00m:\n",
      "\u001b[0;32m    336\u001b[0m     _validate_value(output_value)\n",
      "\n",
      "File \u001b[1;32m~\\anaconda3\\lib\\site-packages\\dash\\_validate.py:324\u001b[0m, in \u001b[0;36mfail_callback_output.<locals>._validate_value\u001b[1;34m(\n",
      "    val=<seaborn.axisgrid.FacetGrid object>,\n",
      "    index=0\n",
      ")\u001b[0m\n",
      "\u001b[0;32m    316\u001b[0m             _raise_invalid(\n",
      "\u001b[0;32m    317\u001b[0m                 bad_val\u001b[38;5;241m=\u001b[39mchild,\n",
      "\u001b[0;32m    318\u001b[0m                 outer_val\u001b[38;5;241m=\u001b[39mval,\n",
      "\u001b[0;32m    319\u001b[0m                 path\u001b[38;5;241m=\u001b[39m\u001b[38;5;28mtype\u001b[39m(child)\u001b[38;5;241m.\u001b[39m\u001b[38;5;18m__name__\u001b[39m,\n",
      "\u001b[0;32m    320\u001b[0m                 index\u001b[38;5;241m=\u001b[39mindex,\n",
      "\u001b[0;32m    321\u001b[0m             )\n",
      "\u001b[0;32m    323\u001b[0m \u001b[38;5;28;01mif\u001b[39;00m \u001b[38;5;129;01mnot\u001b[39;00m _can_serialize(val):\n",
      "\u001b[1;32m--> 324\u001b[0m     \u001b[43m_raise_invalid\u001b[49m\u001b[43m(\u001b[49m\n",
      "        val \u001b[1;34m= <seaborn.axisgrid.FacetGrid object at 0x00000278EEE44490>\u001b[0m\u001b[1;34m\n",
      "        \u001b[0mtype(val) \u001b[1;34m= <class 'seaborn.axisgrid.FacetGrid'>\u001b[0m\u001b[1;34m\n",
      "        \u001b[0mindex \u001b[1;34m= 0\u001b[0m\n",
      "\u001b[0;32m    325\u001b[0m \u001b[43m        \u001b[49m\u001b[43mbad_val\u001b[49m\u001b[38;5;241;43m=\u001b[39;49m\u001b[43mval\u001b[49m\u001b[43m,\u001b[49m\n",
      "\u001b[0;32m    326\u001b[0m \u001b[43m        \u001b[49m\u001b[43mouter_val\u001b[49m\u001b[38;5;241;43m=\u001b[39;49m\u001b[38;5;28;43mtype\u001b[39;49m\u001b[43m(\u001b[49m\u001b[43mval\u001b[49m\u001b[43m)\u001b[49m\u001b[38;5;241;43m.\u001b[39;49m\u001b[38;5;18;43m__name__\u001b[39;49m\u001b[43m,\u001b[49m\n",
      "\u001b[0;32m    327\u001b[0m \u001b[43m        \u001b[49m\u001b[43mpath\u001b[49m\u001b[38;5;241;43m=\u001b[39;49m\u001b[38;5;124;43m\"\u001b[39;49m\u001b[38;5;124;43m\"\u001b[39;49m\u001b[43m,\u001b[49m\n",
      "\u001b[0;32m    328\u001b[0m \u001b[43m        \u001b[49m\u001b[43mindex\u001b[49m\u001b[38;5;241;43m=\u001b[39;49m\u001b[43mindex\u001b[49m\u001b[43m,\u001b[49m\n",
      "\u001b[0;32m    329\u001b[0m \u001b[43m        \u001b[49m\u001b[43mtoplevel\u001b[49m\u001b[38;5;241;43m=\u001b[39;49m\u001b[38;5;28;43;01mTrue\u001b[39;49;00m\u001b[43m,\u001b[49m\n",
      "\u001b[0;32m    330\u001b[0m \u001b[43m    \u001b[49m\u001b[43m)\u001b[49m\n",
      "\n",
      "File \u001b[1;32m~\\anaconda3\\lib\\site-packages\\dash\\_validate.py:238\u001b[0m, in \u001b[0;36mfail_callback_output.<locals>._raise_invalid\u001b[1;34m(\n",
      "    bad_val=<seaborn.axisgrid.FacetGrid object>,\n",
      "    outer_val='FacetGrid',\n",
      "    path='',\n",
      "    index=0,\n",
      "    toplevel=True\n",
      ")\u001b[0m\n",
      "\u001b[0;32m    229\u001b[0m     location \u001b[38;5;241m=\u001b[39m dedent(\n",
      "\u001b[0;32m    230\u001b[0m         \u001b[38;5;124mf\u001b[39m\u001b[38;5;124m\"\"\"\u001b[39m\n",
      "\u001b[0;32m    231\u001b[0m \u001b[38;5;124m        The value in question is located at\u001b[39m\n",
      "\u001b[1;32m   (...)\u001b[0m\n",
      "\u001b[0;32m    234\u001b[0m \u001b[38;5;124m        \u001b[39m\u001b[38;5;124m\"\"\"\u001b[39m\n",
      "\u001b[0;32m    235\u001b[0m     )\n",
      "\u001b[0;32m    237\u001b[0m obj \u001b[38;5;241m=\u001b[39m \u001b[38;5;124m\"\u001b[39m\u001b[38;5;124mtree with one value\u001b[39m\u001b[38;5;124m\"\u001b[39m \u001b[38;5;28;01mif\u001b[39;00m \u001b[38;5;129;01mnot\u001b[39;00m toplevel \u001b[38;5;28;01melse\u001b[39;00m \u001b[38;5;124m\"\u001b[39m\u001b[38;5;124mvalue\u001b[39m\u001b[38;5;124m\"\u001b[39m\n",
      "\u001b[1;32m--> 238\u001b[0m \u001b[38;5;28;01mraise\u001b[39;00m exceptions\u001b[38;5;241m.\u001b[39mInvalidCallbackReturnValue(\n",
      "        exceptions \u001b[1;34m= <module 'dash.exceptions' from 'C:\\\\Users\\\\HANADI\\\\anaconda3\\\\lib\\\\site-packages\\\\dash\\\\exceptions.py'>\u001b[0m\n",
      "\u001b[0;32m    239\u001b[0m     dedent(\n",
      "\u001b[0;32m    240\u001b[0m         \u001b[38;5;124mf\u001b[39m\u001b[38;5;124m\"\"\"\u001b[39m\n",
      "\u001b[0;32m    241\u001b[0m \u001b[38;5;124m        The callback for `\u001b[39m\u001b[38;5;132;01m{\u001b[39;00moutput\u001b[38;5;132;01m!r}\u001b[39;00m\u001b[38;5;124m`\u001b[39m\n",
      "\u001b[0;32m    242\u001b[0m \u001b[38;5;124m        returned a \u001b[39m\u001b[38;5;132;01m{\u001b[39;00mobj\u001b[38;5;132;01m:\u001b[39;00m\u001b[38;5;124ms\u001b[39m\u001b[38;5;132;01m}\u001b[39;00m\u001b[38;5;124m having type `\u001b[39m\u001b[38;5;132;01m{\u001b[39;00mbad_type\u001b[38;5;132;01m}\u001b[39;00m\u001b[38;5;124m`\u001b[39m\n",
      "\u001b[0;32m    243\u001b[0m \u001b[38;5;124m        which is not JSON serializable.\u001b[39m\n",
      "\u001b[0;32m    244\u001b[0m \n",
      "\u001b[0;32m    245\u001b[0m \u001b[38;5;124m        \u001b[39m\u001b[38;5;132;01m{\u001b[39;00mlocation\u001b[38;5;132;01m}\u001b[39;00m\n",
      "\u001b[0;32m    246\u001b[0m \u001b[38;5;124m        and has string representation\u001b[39m\n",
      "\u001b[0;32m    247\u001b[0m \u001b[38;5;124m        `\u001b[39m\u001b[38;5;132;01m{\u001b[39;00mbad_val\u001b[38;5;132;01m}\u001b[39;00m\u001b[38;5;124m`\u001b[39m\n",
      "\u001b[0;32m    248\u001b[0m \n",
      "\u001b[0;32m    249\u001b[0m \u001b[38;5;124m        In general, Dash properties can only be\u001b[39m\n",
      "\u001b[0;32m    250\u001b[0m \u001b[38;5;124m        dash components, strings, dictionaries, numbers, None,\u001b[39m\n",
      "\u001b[0;32m    251\u001b[0m \u001b[38;5;124m        or lists of those.\u001b[39m\n",
      "\u001b[0;32m    252\u001b[0m \u001b[38;5;124m        \u001b[39m\u001b[38;5;124m\"\"\"\u001b[39m\n",
      "\u001b[0;32m    253\u001b[0m     )\n",
      "\u001b[0;32m    254\u001b[0m )\n",
      "\n",
      "\u001b[1;31mInvalidCallbackReturnValue\u001b[0m: The callback for `[<Output `graph1.figure`>, <Output `graph2.figure`>]`\n",
      "                returned a value having type `FacetGrid`\n",
      "                which is not JSON serializable.\n",
      "\n",
      "\n",
      "The value in question is either the only value returned,\n",
      "or is in the top level of the returned list,\n",
      "\n",
      "                and has string representation\n",
      "                `<seaborn.axisgrid.FacetGrid object at 0x00000278EEE44490>`\n",
      "\n",
      "                In general, Dash properties can only be\n",
      "                dash components, strings, dictionaries, numbers, None,\n",
      "                or lists of those.\n",
      "\n"
     ]
    }
   ],
   "source": [
    "app = JupyterDash(__name__) \n",
    "app.layout = html.Div([\n",
    "    dcc.Dropdown(id='dropdown', options=['survived',\"sex\"],value=\"sex\"),\n",
    "    dcc.Graph(id=\"graph1\"),\n",
    "    dcc.Graph(id=\"graph2\")\n",
    "\n",
    "])\n",
    "@app.callback(\n",
    "    Output('graph1', 'figure'),\n",
    "    Output('graph2', 'figure'),\n",
    "    Input('dropdown', 'value'))\n",
    "\n",
    "def update_chart(column):\n",
    "    fig1 = sns.catplot(\n",
    "    data=df, x=\"survived\", col=\"embarked\",\n",
    "    kind=\"count\", height=4, aspect=.6,\n",
    ")\n",
    "    fig2=sns.barplot(x='sex', y='survived', data= df)\n",
    "\n",
    "    return fig1,fig2\n",
    "\n",
    "\n",
    "if __name__ == '__main__':\n",
    "    app.run_server(mode='inline')"
   ]
  },
  {
   "cell_type": "markdown",
   "metadata": {},
   "source": [
    "# Q9: Search for \"Plotly Gallery\" and fetch for a graph and use it with our data.\n",
    "\n",
    "- Note: You need to put the resourse addres of fetched your grapth."
   ]
  },
  {
   "cell_type": "markdown",
   "metadata": {},
   "source": [
    "https://www.python-graph-gallery.com/line-chart/"
   ]
  },
  {
   "cell_type": "code",
   "execution_count": 57,
   "metadata": {},
   "outputs": [
    {
     "name": "stdout",
     "output_type": "stream",
     "text": [
      "Dash is running on http://127.0.0.1:8050/\n",
      "\n"
     ]
    },
    {
     "data": {
      "text/html": [
       "\n",
       "        <iframe\n",
       "            width=\"100%\"\n",
       "            height=\"650\"\n",
       "            src=\"http://127.0.0.1:8050/\"\n",
       "            frameborder=\"0\"\n",
       "            allowfullscreen\n",
       "            \n",
       "        ></iframe>\n",
       "        "
      ],
      "text/plain": [
       "<IPython.lib.display.IFrame at 0x278f136e470>"
      ]
     },
     "metadata": {},
     "output_type": "display_data"
    }
   ],
   "source": [
    "from dash import Dash, dcc, html, Input, Output\n",
    "from jupyter_dash import JupyterDash\n",
    "import warnings\n",
    "warnings.filterwarnings(\"ignore\")\n",
    "import plotly.express as px\n",
    "import numpy as np\n",
    "import plotly.graph_objects as go\n",
    "\n",
    "\n",
    "fig = px.histogram(df['age'])\n",
    "\n",
    "app = JupyterDash(__name__) \n",
    "\n",
    "app.layout = html.Div(\n",
    "    dcc.Graph(\n",
    "        figure=fig\n",
    "    ))\n",
    "\n",
    "if __name__ == '__main__':\n",
    "    app.run_server(debug=True, use_reloader=False,mode='inline')\n"
   ]
  },
  {
   "cell_type": "markdown",
   "metadata": {},
   "source": [
    "# Challenge 1.1: Create Plotly dash with two charts depends on different columns of the data\n",
    "- First Chart : Pie\n",
    "- Secound Chart: is by your Choice ( Not Pie )"
   ]
  },
  {
   "cell_type": "markdown",
   "metadata": {},
   "source": [
    "# Challenge 1.2: Make Hovering over a slice of the pie changes the data for the second chart depending on what the slice is."
   ]
  },
  {
   "cell_type": "code",
   "execution_count": null,
   "metadata": {},
   "outputs": [],
   "source": []
  }
 ],
 "metadata": {
  "kernelspec": {
   "display_name": "Python 3 (ipykernel)",
   "language": "python",
   "name": "python3"
  },
  "language_info": {
   "codemirror_mode": {
    "name": "ipython",
    "version": 3
   },
   "file_extension": ".py",
   "mimetype": "text/x-python",
   "name": "python",
   "nbconvert_exporter": "python",
   "pygments_lexer": "ipython3",
   "version": "3.10.9"
  }
 },
 "nbformat": 4,
 "nbformat_minor": 2
}
