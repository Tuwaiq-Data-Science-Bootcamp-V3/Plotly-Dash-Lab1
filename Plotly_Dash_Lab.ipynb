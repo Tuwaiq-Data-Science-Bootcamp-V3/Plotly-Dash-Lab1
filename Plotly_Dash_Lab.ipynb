{
 "cells": [
  {
   "cell_type": "markdown",
   "metadata": {},
   "source": [
    "# Q0: import dash standard libraries"
   ]
  },
  {
   "cell_type": "code",
   "execution_count": 1,
   "metadata": {},
   "outputs": [
    {
     "name": "stdout",
     "output_type": "stream",
     "text": [
      "Requirement already satisfied: dash in c:\\users\\luka3\\anaconda3\\lib\\site-packages (2.10.1)\n",
      "Requirement already satisfied: Werkzeug<=2.2.3 in c:\\users\\luka3\\anaconda3\\lib\\site-packages (from dash) (2.0.3)\n",
      "Requirement already satisfied: Flask<=2.2.3,>=1.0.4 in c:\\users\\luka3\\anaconda3\\lib\\site-packages (from dash) (1.1.2)\n",
      "Requirement already satisfied: dash-core-components==2.0.0 in c:\\users\\luka3\\anaconda3\\lib\\site-packages (from dash) (2.0.0)\n",
      "Requirement already satisfied: plotly>=5.0.0 in c:\\users\\luka3\\anaconda3\\lib\\site-packages (from dash) (5.9.0)\n",
      "Requirement already satisfied: dash-html-components==2.0.0 in c:\\users\\luka3\\anaconda3\\lib\\site-packages (from dash) (2.0.0)\n",
      "Requirement already satisfied: dash-table==5.0.0 in c:\\users\\luka3\\anaconda3\\lib\\site-packages (from dash) (5.0.0)\n",
      "Requirement already satisfied: itsdangerous>=0.24 in c:\\users\\luka3\\anaconda3\\lib\\site-packages (from Flask<=2.2.3,>=1.0.4->dash) (2.0.1)\n",
      "Requirement already satisfied: Jinja2>=2.10.1 in c:\\users\\luka3\\anaconda3\\lib\\site-packages (from Flask<=2.2.3,>=1.0.4->dash) (2.11.3)\n",
      "Requirement already satisfied: click>=5.1 in c:\\users\\luka3\\anaconda3\\lib\\site-packages (from Flask<=2.2.3,>=1.0.4->dash) (8.0.4)\n",
      "Requirement already satisfied: tenacity>=6.2.0 in c:\\users\\luka3\\anaconda3\\lib\\site-packages (from plotly>=5.0.0->dash) (8.0.1)\n",
      "Requirement already satisfied: colorama in c:\\users\\luka3\\anaconda3\\lib\\site-packages (from click>=5.1->Flask<=2.2.3,>=1.0.4->dash) (0.4.5)\n",
      "Requirement already satisfied: MarkupSafe>=0.23 in c:\\users\\luka3\\anaconda3\\lib\\site-packages (from Jinja2>=2.10.1->Flask<=2.2.3,>=1.0.4->dash) (2.0.1)\n",
      "Note: you may need to restart the kernel to use updated packages.\n"
     ]
    }
   ],
   "source": [
    "pip install dash"
   ]
  },
  {
   "cell_type": "code",
   "execution_count": 2,
   "metadata": {},
   "outputs": [
    {
     "name": "stdout",
     "output_type": "stream",
     "text": [
      "Requirement already satisfied: jupyter-dash in c:\\users\\luka3\\anaconda3\\lib\\site-packages (0.4.2)\n",
      "Requirement already satisfied: requests in c:\\users\\luka3\\anaconda3\\lib\\site-packages (from jupyter-dash) (2.28.1)\n",
      "Requirement already satisfied: retrying in c:\\users\\luka3\\anaconda3\\lib\\site-packages (from jupyter-dash) (1.3.4)\n",
      "Requirement already satisfied: ipython in c:\\users\\luka3\\anaconda3\\lib\\site-packages (from jupyter-dash) (7.31.1)\n",
      "Requirement already satisfied: ansi2html in c:\\users\\luka3\\anaconda3\\lib\\site-packages (from jupyter-dash) (1.8.0)\n",
      "Requirement already satisfied: flask in c:\\users\\luka3\\anaconda3\\lib\\site-packages (from jupyter-dash) (1.1.2)\n",
      "Requirement already satisfied: nest-asyncio in c:\\users\\luka3\\anaconda3\\lib\\site-packages (from jupyter-dash) (1.5.5)\n",
      "Requirement already satisfied: ipykernel in c:\\users\\luka3\\anaconda3\\lib\\site-packages (from jupyter-dash) (6.15.2)\n",
      "Requirement already satisfied: dash in c:\\users\\luka3\\anaconda3\\lib\\site-packages (from jupyter-dash) (2.10.1)\n",
      "Requirement already satisfied: dash-html-components==2.0.0 in c:\\users\\luka3\\anaconda3\\lib\\site-packages (from dash->jupyter-dash) (2.0.0)\n",
      "Requirement already satisfied: dash-core-components==2.0.0 in c:\\users\\luka3\\anaconda3\\lib\\site-packages (from dash->jupyter-dash) (2.0.0)\n",
      "Requirement already satisfied: plotly>=5.0.0 in c:\\users\\luka3\\anaconda3\\lib\\site-packages (from dash->jupyter-dash) (5.9.0)\n",
      "Requirement already satisfied: Werkzeug<=2.2.3 in c:\\users\\luka3\\anaconda3\\lib\\site-packages (from dash->jupyter-dash) (2.0.3)\n",
      "Requirement already satisfied: dash-table==5.0.0 in c:\\users\\luka3\\anaconda3\\lib\\site-packages (from dash->jupyter-dash) (5.0.0)\n",
      "Requirement already satisfied: click>=5.1 in c:\\users\\luka3\\anaconda3\\lib\\site-packages (from flask->jupyter-dash) (8.0.4)\n",
      "Requirement already satisfied: itsdangerous>=0.24 in c:\\users\\luka3\\anaconda3\\lib\\site-packages (from flask->jupyter-dash) (2.0.1)\n",
      "Requirement already satisfied: Jinja2>=2.10.1 in c:\\users\\luka3\\anaconda3\\lib\\site-packages (from flask->jupyter-dash) (2.11.3)\n",
      "Requirement already satisfied: jupyter-client>=6.1.12 in c:\\users\\luka3\\anaconda3\\lib\\site-packages (from ipykernel->jupyter-dash) (7.3.4)\n",
      "Requirement already satisfied: traitlets>=5.1.0 in c:\\users\\luka3\\anaconda3\\lib\\site-packages (from ipykernel->jupyter-dash) (5.1.1)\n",
      "Requirement already satisfied: matplotlib-inline>=0.1 in c:\\users\\luka3\\anaconda3\\lib\\site-packages (from ipykernel->jupyter-dash) (0.1.6)\n",
      "Requirement already satisfied: psutil in c:\\users\\luka3\\anaconda3\\lib\\site-packages (from ipykernel->jupyter-dash) (5.9.0)\n",
      "Requirement already satisfied: pyzmq>=17 in c:\\users\\luka3\\anaconda3\\lib\\site-packages (from ipykernel->jupyter-dash) (23.2.0)\n",
      "Requirement already satisfied: tornado>=6.1 in c:\\users\\luka3\\anaconda3\\lib\\site-packages (from ipykernel->jupyter-dash) (6.1)\n",
      "Requirement already satisfied: debugpy>=1.0 in c:\\users\\luka3\\anaconda3\\lib\\site-packages (from ipykernel->jupyter-dash) (1.5.1)\n",
      "Requirement already satisfied: packaging in c:\\users\\luka3\\anaconda3\\lib\\site-packages (from ipykernel->jupyter-dash) (21.3)\n",
      "Requirement already satisfied: decorator in c:\\users\\luka3\\anaconda3\\lib\\site-packages (from ipython->jupyter-dash) (5.1.1)\n",
      "Requirement already satisfied: colorama in c:\\users\\luka3\\anaconda3\\lib\\site-packages (from ipython->jupyter-dash) (0.4.5)\n",
      "Requirement already satisfied: jedi>=0.16 in c:\\users\\luka3\\anaconda3\\lib\\site-packages (from ipython->jupyter-dash) (0.18.1)\n",
      "Requirement already satisfied: pickleshare in c:\\users\\luka3\\anaconda3\\lib\\site-packages (from ipython->jupyter-dash) (0.7.5)\n",
      "Requirement already satisfied: prompt-toolkit!=3.0.0,!=3.0.1,<3.1.0,>=2.0.0 in c:\\users\\luka3\\anaconda3\\lib\\site-packages (from ipython->jupyter-dash) (3.0.20)\n",
      "Requirement already satisfied: backcall in c:\\users\\luka3\\anaconda3\\lib\\site-packages (from ipython->jupyter-dash) (0.2.0)\n",
      "Requirement already satisfied: pygments in c:\\users\\luka3\\anaconda3\\lib\\site-packages (from ipython->jupyter-dash) (2.11.2)\n",
      "Requirement already satisfied: setuptools>=18.5 in c:\\users\\luka3\\anaconda3\\lib\\site-packages (from ipython->jupyter-dash) (63.4.1)\n",
      "Requirement already satisfied: certifi>=2017.4.17 in c:\\users\\luka3\\anaconda3\\lib\\site-packages (from requests->jupyter-dash) (2022.9.14)\n",
      "Requirement already satisfied: idna<4,>=2.5 in c:\\users\\luka3\\anaconda3\\lib\\site-packages (from requests->jupyter-dash) (3.3)\n",
      "Requirement already satisfied: charset-normalizer<3,>=2 in c:\\users\\luka3\\anaconda3\\lib\\site-packages (from requests->jupyter-dash) (2.0.4)\n",
      "Requirement already satisfied: urllib3<1.27,>=1.21.1 in c:\\users\\luka3\\anaconda3\\lib\\site-packages (from requests->jupyter-dash) (1.26.11)\n",
      "Requirement already satisfied: six>=1.7.0 in c:\\users\\luka3\\anaconda3\\lib\\site-packages (from retrying->jupyter-dash) (1.16.0)\n",
      "Requirement already satisfied: parso<0.9.0,>=0.8.0 in c:\\users\\luka3\\anaconda3\\lib\\site-packages (from jedi>=0.16->ipython->jupyter-dash) (0.8.3)\n",
      "Requirement already satisfied: MarkupSafe>=0.23 in c:\\users\\luka3\\anaconda3\\lib\\site-packages (from Jinja2>=2.10.1->flask->jupyter-dash) (2.0.1)\n",
      "Requirement already satisfied: entrypoints in c:\\users\\luka3\\anaconda3\\lib\\site-packages (from jupyter-client>=6.1.12->ipykernel->jupyter-dash) (0.4)\n",
      "Requirement already satisfied: python-dateutil>=2.8.2 in c:\\users\\luka3\\anaconda3\\lib\\site-packages (from jupyter-client>=6.1.12->ipykernel->jupyter-dash) (2.8.2)\n",
      "Requirement already satisfied: jupyter-core>=4.9.2 in c:\\users\\luka3\\anaconda3\\lib\\site-packages (from jupyter-client>=6.1.12->ipykernel->jupyter-dash) (4.11.1)\n",
      "Requirement already satisfied: tenacity>=6.2.0 in c:\\users\\luka3\\anaconda3\\lib\\site-packages (from plotly>=5.0.0->dash->jupyter-dash) (8.0.1)\n",
      "Requirement already satisfied: wcwidth in c:\\users\\luka3\\anaconda3\\lib\\site-packages (from prompt-toolkit!=3.0.0,!=3.0.1,<3.1.0,>=2.0.0->ipython->jupyter-dash) (0.2.5)\n",
      "Requirement already satisfied: pyparsing!=3.0.5,>=2.0.2 in c:\\users\\luka3\\anaconda3\\lib\\site-packages (from packaging->ipykernel->jupyter-dash) (3.0.9)\n",
      "Requirement already satisfied: pywin32>=1.0 in c:\\users\\luka3\\anaconda3\\lib\\site-packages (from jupyter-core>=4.9.2->jupyter-client>=6.1.12->ipykernel->jupyter-dash) (302)\n",
      "Note: you may need to restart the kernel to use updated packages.\n"
     ]
    }
   ],
   "source": [
    "pip install jupyter-dash"
   ]
  },
  {
   "cell_type": "code",
   "execution_count": 3,
   "metadata": {},
   "outputs": [],
   "source": [
    "from dash import Dash, dcc, html, Input, Output\n",
    "from jupyter_dash import JupyterDash"
   ]
  },
  {
   "cell_type": "code",
   "execution_count": 4,
   "metadata": {},
   "outputs": [],
   "source": [
    "from dash import Dash, html, dcc\n",
    "import dash"
   ]
  },
  {
   "cell_type": "markdown",
   "metadata": {},
   "source": [
    "# Q1: Make dash that prints \"Data Science\""
   ]
  },
  {
   "cell_type": "code",
   "execution_count": null,
   "metadata": {},
   "outputs": [
    {
     "name": "stdout",
     "output_type": "stream",
     "text": [
      "Dash is running on http://127.0.0.1:8050/\n",
      "\n",
      " * Serving Flask app \"__main__\" (lazy loading)\n",
      " * Environment: production\n",
      "\u001b[31m   WARNING: This is a development server. Do not use it in a production deployment.\u001b[0m\n",
      "\u001b[2m   Use a production WSGI server instead.\u001b[0m\n",
      " * Debug mode: off\n"
     ]
    },
    {
     "name": "stderr",
     "output_type": "stream",
     "text": [
      " * Running on http://127.0.0.1:8050/ (Press CTRL+C to quit)\n"
     ]
    }
   ],
   "source": [
    "from dash import Dash, html\n",
    "\n",
    "app = dash.Dash(__name__)\n",
    "\n",
    "app.layout = html.Div([\n",
    "    html.H1('Data Science')\n",
    "])\n",
    "\n",
    "if __name__ == '__main__':\n",
    "    app.run_server(debug=False)"
   ]
  },
  {
   "cell_type": "markdown",
   "metadata": {},
   "source": [
    "# Q2: Make dash that takes name input and outpt \"Welcome to Data Science dashboard {name}\""
   ]
  },
  {
   "cell_type": "code",
   "execution_count": null,
   "metadata": {
    "scrolled": true
   },
   "outputs": [],
   "source": [
    "from dash import Dash, dcc, html\n",
    "from dash.dependencies import Input, Output\n",
    "\n",
    "app = Dash(__name__)\n",
    "\n",
    "ALLOWED_TYPES = (\n",
    "    \"text\", \"number\", \"password\", \"email\", \"search\",\n",
    "    \"tel\", \"url\", \"range\", \"hidden\",\n",
    ")\n",
    "\n",
    "\n",
    "app.layout = html.Div(\n",
    "    [\n",
    "        dcc.Input(\n",
    "            id=\"input_{}\".format(_),\n",
    "            type=_,\n",
    "            placeholder=\"input type {}\".format(_),\n",
    "        )\n",
    "        for _ in ALLOWED_TYPES\n",
    "    ]\n",
    "    + [html.Div(id=\"out-all-types\")]\n",
    ")\n",
    "\n",
    "\n",
    "@app.callback(\n",
    "    Output(\"out-all-types\", \"children\"),\n",
    "    [Input(\"input_{}\".format(_), \"value\") for _ in ALLOWED_TYPES],\n",
    ")\n",
    "def cb_render(*vals):\n",
    "    return \" | \".join((str(val) for val in vals if val))\n",
    "\n",
    "\n",
    "if __name__ == \"__main__\":\n",
    "    app.run_server(debug=False)"
   ]
  },
  {
   "cell_type": "code",
   "execution_count": null,
   "metadata": {},
   "outputs": [],
   "source": [
    "from dash import Dash, dcc, html\n",
    "from dash.dependencies import Input, Output\n",
    "app = Dash(__name__)\n",
    "\n",
    "app.layout = html.Div(\n",
    "    children=[\n",
    "        html.H1(\"Welcome\", style={\"text-align\": \"center\"}),\n",
    "        html.Div(\n",
    "            children=[\n",
    "                html.Label(\"Enter your name:\"),\n",
    "                dcc.Input(id=\"name-input\", type=\"text\", placeholder=\"Your name\"),\n",
    "            ],\n",
    "            style={\"text-align\": \"center\", \"margin-top\": \"20px\"},\n",
    "        ),\n",
    "        html.Div(id=\"output-message\", style={\"text-align\": \"center\", \"margin-top\": \"20px\"}),\n",
    "    ]\n",
    ")\n",
    "\n",
    "@app.callback(\n",
    "    Output(\"output-message\", \"children\"),\n",
    "    [Input(\"name-input\", \"value\")]\n",
    ")\n",
    "def display_welcome_message(name):\n",
    "    if name:\n",
    "        return html.H2(f\"Welcome to the Data Science Dashboard, {name}!\")\n",
    "    else:\n",
    "        return \"\"\n",
    "\n",
    "if __name__ == \"__main__\":\n",
    "    app.run_server()"
   ]
  },
  {
   "cell_type": "markdown",
   "metadata": {},
   "source": [
    "# Q3: Make Plotly-Dash that takes two inputs (numbers) and output 3 numbers x, y , z= x+y\n",
    "- hint: use html.Div, dcc.Input(type='number')"
   ]
  },
  {
   "cell_type": "code",
   "execution_count": null,
   "metadata": {},
   "outputs": [],
   "source": [
    "from dash import Dash, dcc, html\n",
    "from dash.dependencies import Input, Output\n",
    "\n",
    "app = Dash(__name__)\n",
    "app.layout = html.Div(\n",
    "    children=[\n",
    "        html.H1(\"X Y Z\", style={\"text-align\": \"center\"}),\n",
    "        html.Div(\n",
    "            children=[\n",
    "                html.Label(\"X:\"),\n",
    "                dcc.Input(id=\"name-input\", type=\"number\", placeholder=\"enter x\")"
   ]
  },
  {
   "cell_type": "markdown",
   "metadata": {},
   "source": [
    "# Q4.1: Make JubyterDash with Rangeslider from 1-15 with 6 option"
   ]
  },
  {
   "cell_type": "code",
   "execution_count": null,
   "metadata": {},
   "outputs": [],
   "source": [
    "app = JupyterDash(__name__)\n",
    "\n",
    "app.layout = html.Div([\n",
    "    html.H1(\"RangeSlider Example\"),\n",
    "    html.Label(\"Select a range:\"),\n",
    "    dcc.RangeSlider(\n",
    "        id='range-slider',\n",
    "        marks={i: str(i) for i in range(1, 16)},\n",
    "        min=1,\n",
    "        max=15,\n",
    "        step=1,\n",
    "        value=[3, 9],\n",
    "    ),\n",
    "    html.Div(id='output')\n",
    "])\n",
    "\n",
    "@app.callback(\n",
    "    Output('output', 'children'),\n",
    "    [Input('range-slider', 'value')]\n",
    ")\n",
    "def update_output(value):\n",
    "    return f\"You have selected the range: {value[0]} to {value[1]}\"\n",
    "\n",
    "if __name__ == '__main__':\n",
    "    app.run_server(mode='inline')"
   ]
  },
  {
   "cell_type": "markdown",
   "metadata": {},
   "source": [
    "# Q4.2: add to the previous dash: Label, set default value on rangeslider as 7-10"
   ]
  },
  {
   "cell_type": "code",
   "execution_count": null,
   "metadata": {},
   "outputs": [],
   "source": [
    "app = dash.Dash(__name__)\n",
    "\n",
    "app.layout = html.Div([\n",
    "    html.H1(\"RangeSlider Example\"),\n",
    "    html.Label(\"Select a range:\"),\n",
    "    dcc.RangeSlider(\n",
    "        id='range-slider',\n",
    "        marks={i: str(i) for i in range(1, 16)},\n",
    "        min=1,\n",
    "        max=15,\n",
    "        step=1,\n",
    "        value=[7, 10],  # Set the default value to 7-10\n",
    "    ),\n",
    "    html.Div(id='output')\n",
    "])\n",
    "\n",
    "@app.callback(\n",
    "    Output('output', 'children'),\n",
    "    [Input('range-slider', 'value')]\n",
    ")\n",
    "def update_output(value):\n",
    "    return f\"You have selected the range: {value[0]} to {value[1]}\"\n",
    "\n",
    "if __name__ == '__main__':\n",
    "    app.run_server()"
   ]
  },
  {
   "cell_type": "markdown",
   "metadata": {},
   "source": [
    "# Q5: Make 3 different Dcc types (Dropdown - Checkbox...) in one dash"
   ]
  },
  {
   "cell_type": "code",
   "execution_count": null,
   "metadata": {},
   "outputs": [],
   "source": [
    "from dash import Dash, html, dcc, Input, Output\n",
    "app = dash.Dash(__name__)\n",
    "\n",
    "app.layout = html.Div(\n",
    "    children=[\n",
    "        html.H1(\"Dash App\"),\n",
    "        html.Div(\n",
    "            children=[\n",
    "                html.Label(\"Checkbox\"),\n",
    "                dcc.Checklist(\n",
    "        ['Car', 'Train', 'Plane'],\n",
    "        inline=True),\n",
    "                html.Br(),\n",
    "                html.Label(\"Dropdown\"),\n",
    "                dcc.Dropdown(\n",
    "                    id=\"dropdown\",\n",
    "                    options=[\n",
    "                        {\"label\": \"Car\", \"value\": \"Car\"},\n",
    "                        {\"label\": \"Train\", \"value\": \"Train\"},\n",
    "                        {\"label\": \"Plane\", \"value\": \"Plane\"},\n",
    "                    ],\n",
    "                    value=\"option1\",\n",
    "                ),\n",
    "                html.Br(),\n",
    "                html.Label(\"RadioItems\"),\n",
    "                dcc.RadioItems(\n",
    "                    id=\"radioitems\",\n",
    "                    options=[\n",
    "                        {\"label\": \"Car\", \"value\": \"Car\"},\n",
    "                        {\"label\": \"Train\", \"value\": \"Train\"},\n",
    "                        {\"label\": \"Plane\", \"value\": \"Plane\"},\n",
    "                    ],\n",
    "                    value=\"optionA\",\n",
    "                ),\n",
    "            ]\n",
    "        ),\n",
    "    ]\n",
    ")\n",
    "\n",
    "if __name__ == \"__main__\":\n",
    "    app.run_server(debug=True, use_reloader=False)"
   ]
  },
  {
   "cell_type": "markdown",
   "metadata": {},
   "source": [
    "# Q6: Make Plotly chart, then add it to a plotly_dash"
   ]
  },
  {
   "cell_type": "code",
   "execution_count": null,
   "metadata": {},
   "outputs": [],
   "source": [
    "import plotly.express as px"
   ]
  },
  {
   "cell_type": "code",
   "execution_count": null,
   "metadata": {},
   "outputs": [],
   "source": [
    "import plotly.graph_objects as go\n",
    "\n",
    "x_data = [1, 2, 3, 4, 5]\n",
    "y_data = [10, 8, 6, 4, 2]\n",
    "\n",
    "\n",
    "trace = go.Scatter(x=x_data, y=y_data, mode=\"markers\")\n",
    "\n",
    "\n",
    "layout = go.Layout(title=\"Plotly Chart\", xaxis=dict(title=\"X-axis\"), yaxis=dict(title=\"Y-axis\"))\n",
    "\n",
    "\n",
    "fig = go.Figure(data=[trace], layout=layout)\n",
    "\n",
    "fig.show()"
   ]
  },
  {
   "cell_type": "code",
   "execution_count": null,
   "metadata": {},
   "outputs": [],
   "source": [
    "import dash\n",
    "import dash_core_components as dcc\n",
    "import dash_html_components as html\n",
    "import plotly.graph_objects as go\n",
    "\n",
    "app = dash.Dash(__name__)\n",
    "\n",
    "app.layout = html.Div(children=[\n",
    "    html.H1(\"Plotly Chart\"),\n",
    "    dcc.Graph(\n",
    "        figure=go.Figure(\n",
    "            data=[\n",
    "                go.Scatter(\n",
    "                    x=[1, 2, 3, 4, 5],\n",
    "                    y=[10, 8, 6, 4, 2],\n",
    "                    mode=\"markers\",\n",
    "                    marker=dict(\n",
    "                        size=12,\n",
    "                        color=\"blue\",\n",
    "                    ),\n",
    "                    name=\"Data\",\n",
    "                )\n",
    "            ],\n",
    "            layout=go.Layout(\n",
    "                title=\"Scatter Plot\",\n",
    "                xaxis=dict(title=\"X\"),\n",
    "                yaxis=dict(title=\"Y\"),\n",
    "            ),\n",
    "        )\n",
    "    )\n",
    "])\n",
    "\n",
    "if __name__ == \"__main__\":\n",
    "    app.run_server(debug=True, use_reloader=False)"
   ]
  },
  {
   "cell_type": "markdown",
   "metadata": {},
   "source": [
    "# Q7: From our data make plotly-dash with suitble chart, and Dropdown.\n",
    "\n",
    "- Dropdown should contain at least 3 options, each one represents different column.\n",
    "- Add label to dropdown.\n",
    "- The chart data should change depending on the selected dropdown option."
   ]
  },
  {
   "cell_type": "code",
   "execution_count": null,
   "metadata": {},
   "outputs": [],
   "source": [
    "import pandas as pd\n",
    "df = pd.read_csv(\"titanic passenger list.csv\")"
   ]
  },
  {
   "cell_type": "code",
   "execution_count": null,
   "metadata": {},
   "outputs": [],
   "source": [
    "import dash\n",
    "import dash_core_components as dcc\n",
    "import dash_html_components as html\n",
    "import plotly.express as px\n",
    "import pandas as pd\n",
    "\n",
    "df = pd.read_csv(\"titanic passenger list.csv\")\n",
    "df = df[[\"age\", \"survived\", \"fare\"]]\n",
    "\n",
    "app = dash.Dash(__name__)\n",
    "\n",
    "app.layout = html.Div([\n",
    "    html.Label(\"Select a column:\"),\n",
    "    dcc.Dropdown(\n",
    "        id=\"column-dropdown\",\n",
    "        options=[\n",
    "            {\"label\": \"Age\", \"value\": \"age\"},\n",
    "            {\"label\": \"Fare\", \"value\": \"fare\"},\n",
    "            {\"label\": \"Survived\", \"value\": \"survived\"}\n",
    "        ],\n",
    "        value=\"age\"\n",
    "    ),\n",
    "    html.Br(),\n",
    "    html.Label(\"Select chart type:\"),\n",
    "    dcc.Checklist(\n",
    "        id=\"chart-type-checklist\",\n",
    "        options=[\n",
    "            {\"label\": \"Pie Chart\", \"value\": \"pie\"}\n",
    "        ],\n",
    "        value=[\"pie\"]\n",
    "    ),\n",
    "    html.Div(id=\"charts-container\")\n",
    "])\n",
    "\n",
    "\n",
    "@app.callback(\n",
    "    dash.dependencies.Output(\"charts-container\", \"children\"),\n",
    "    [\n",
    "        dash.dependencies.Input(\"column-dropdown\", \"value\"),\n",
    "        dash.dependencies.Input(\"chart-type-checklist\", \"value\")\n",
    "    ]\n",
    ")\n",
    "def update_charts(selected_column, selected_chart_types):\n",
    "    charts = []\n",
    "    for chart_type in selected_chart_types:\n",
    "        if chart_type == \"pie\":\n",
    "            fig = px.pie(df, values=selected_column, names=\"survived\")\n",
    "            charts.append(dcc.Graph(figure=fig))\n",
    "    return charts\n",
    "\n",
    "\n",
    "if __name__ == '__main__':\n",
    "    app.run_server(debug=True, use_reloader=False)"
   ]
  },
  {
   "cell_type": "code",
   "execution_count": null,
   "metadata": {},
   "outputs": [],
   "source": []
  },
  {
   "cell_type": "code",
   "execution_count": null,
   "metadata": {},
   "outputs": [],
   "source": []
  },
  {
   "cell_type": "markdown",
   "metadata": {},
   "source": [
    "# Q8: add 2 more charts to the prevoius Ploty-Dash"
   ]
  },
  {
   "cell_type": "markdown",
   "metadata": {},
   "source": [
    "# Q9: Search for \"Plotly Gallery\" and fetch for a graph and use it with our data.\n",
    "\n",
    "- Note: You need to put the resourse addres of fetched your grapth."
   ]
  },
  {
   "cell_type": "code",
   "execution_count": null,
   "metadata": {},
   "outputs": [],
   "source": [
    "import dash\n",
    "import dash_core_components as dcc\n",
    "import dash_html_components as html\n",
    "import plotly.express as px\n",
    "import pandas as pd\n",
    "\n",
    "df = pd.read_csv(\"titanic passenger list.csv\")\n",
    "df = df[[\"age\", \"survived\", \"fare\"]]\n",
    "\n",
    "app = dash.Dash(__name__)\n",
    "\n",
    "app.layout = html.Div([\n",
    "    html.Label(\"Select a column:\"),\n",
    "    dcc.Dropdown(\n",
    "        id=\"column-dropdown\",\n",
    "        options=[\n",
    "            {\"label\": \"Age\", \"value\": \"age\"},\n",
    "            {\"label\": \"Fare\", \"value\": \"fare\"},\n",
    "            {\"label\": \"Survived\", \"value\": \"survived\"}\n",
    "        ],\n",
    "        value=\"age\"\n",
    "    ),\n",
    "    html.Br(),\n",
    "    html.Label(\"Select chart type:\"),\n",
    "    dcc.Checklist(\n",
    "        id=\"chart-type-checklist\",\n",
    "        options=[\n",
    "            {\"label\": \"Bar Chart\", \"value\": \"bar\"},\n",
    "            {\"label\": \"Pie Chart\", \"value\": \"pie\"},\n",
    "            {\"label\": \"Scatter Plot\", \"value\": \"scatter\"}\n",
    "        ],\n",
    "        value=[\"bar\", \"scatter\"]\n",
    "    ),\n",
    "    html.Div(id=\"charts-container\")\n",
    "])\n",
    "\n",
    "\n",
    "@app.callback(\n",
    "    dash.dependencies.Output(\"charts-container\", \"children\"),\n",
    "    [\n",
    "        dash.dependencies.Input(\"column-dropdown\", \"value\"),\n",
    "        dash.dependencies.Input(\"chart-type-checklist\", \"value\")\n",
    "    ]\n",
    ")\n",
    "def update_charts(selected_column, selected_chart_types):\n",
    "    charts = []\n",
    "    for chart_type in selected_chart_types:\n",
    "        if chart_type == \"bar\":\n",
    "            fig = px.bar(df, x=\"age\", y=selected_column)\n",
    "        elif chart_type == \"pie\":\n",
    "            fig = px.pie(df, values=selected_column, names=\"survived\")\n",
    "        elif chart_type == \"scatter\":\n",
    "            fig = px.scatter(df, x=\"age\", y=\"fare\", color=selected_column)\n",
    "        charts.append(dcc.Graph(figure=fig))\n",
    "    return charts\n",
    "\n",
    "\n",
    "if __name__ == '__main__':\n",
    "    app.run_server(debug=True, use_reloader=False)"
   ]
  },
  {
   "cell_type": "code",
   "execution_count": null,
   "metadata": {},
   "outputs": [],
   "source": []
  },
  {
   "cell_type": "markdown",
   "metadata": {},
   "source": [
    "# Challenge 1.1: Create Plotly dash with two charts depends on different columns of the data\n",
    "- First Chart : Pie\n",
    "- Secound Chart: is by your Choice ( Not Pie )"
   ]
  },
  {
   "cell_type": "code",
   "execution_count": null,
   "metadata": {},
   "outputs": [],
   "source": []
  },
  {
   "cell_type": "markdown",
   "metadata": {},
   "source": [
    "# Challenge 1.2: Make Hovering over a slice of the pie changes the data for the second chart depending on what the slice is."
   ]
  },
  {
   "cell_type": "code",
   "execution_count": null,
   "metadata": {},
   "outputs": [],
   "source": []
  }
 ],
 "metadata": {
  "kernelspec": {
   "display_name": "Python 3 (ipykernel)",
   "language": "python",
   "name": "python3"
  },
  "language_info": {
   "codemirror_mode": {
    "name": "ipython",
    "version": 3
   },
   "file_extension": ".py",
   "mimetype": "text/x-python",
   "name": "python",
   "nbconvert_exporter": "python",
   "pygments_lexer": "ipython3",
   "version": "3.9.13"
  }
 },
 "nbformat": 4,
 "nbformat_minor": 2
}
